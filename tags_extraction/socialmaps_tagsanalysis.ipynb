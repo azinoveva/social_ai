{
 "cells": [
  {
   "cell_type": "markdown",
   "metadata": {},
   "source": [
    "# SocialMaps - Entity/Topic Extraction"
   ]
  },
  {
   "cell_type": "markdown",
   "metadata": {},
   "source": [
    "The idea is to extend tags for improving search on page by using the given description text. \n",
    "We start first with the exploration of existing tags."
   ]
  },
  {
   "cell_type": "code",
   "execution_count": 1,
   "metadata": {
    "execution": {
     "iopub.execute_input": "2024-05-17T06:18:10.409213Z",
     "iopub.status.busy": "2024-05-17T06:18:10.408330Z",
     "iopub.status.idle": "2024-05-17T06:18:13.066390Z",
     "shell.execute_reply": "2024-05-17T06:18:13.064888Z",
     "shell.execute_reply.started": "2024-05-17T06:18:10.409213Z"
    },
    "tags": []
   },
   "outputs": [],
   "source": [
    "import json\n",
    "import re\n",
    "import pandas as pd\n",
    "\n",
    "\n",
    "def load_json(file_name):\n",
    "    try:\n",
    "        with open(file_name, \"r\", encoding=\"utf-8\") as file:\n",
    "            data = json.load(file)\n",
    "            print(\"Data loaded successfully from\", file_name)\n",
    "            return data\n",
    "    except FileNotFoundError:\n",
    "        print(\"Error: The file does not exist.\")\n",
    "        return None\n",
    "    except json.JSONDecodeError:\n",
    "        print(\"Error: The file is not a valid JSON.\")\n",
    "        return None"
   ]
  },
  {
   "cell_type": "code",
   "execution_count": 2,
   "metadata": {
    "execution": {
     "iopub.execute_input": "2024-05-17T06:18:16.044424Z",
     "iopub.status.busy": "2024-05-17T06:18:16.042742Z",
     "iopub.status.idle": "2024-05-17T06:18:59.916318Z",
     "shell.execute_reply": "2024-05-17T06:18:59.915323Z",
     "shell.execute_reply.started": "2024-05-17T06:18:16.044424Z"
    },
    "tags": []
   },
   "outputs": [
    {
     "name": "stdout",
     "output_type": "stream",
     "text": [
      "Data loaded successfully from ./socialmaps-items.json\n"
     ]
    }
   ],
   "source": [
    "data = load_json(\"./socialmaps-items.json\")\n",
    "items = data[\"items\"]\n",
    "# print(json.dumps(items, indent=4))\n",
    "\n",
    "df = pd.DataFrame.from_dict(items[0], orient=\"index\").transpose()\n",
    "\n",
    "for i in range(1, len(items)):\n",
    "    temp = pd.DataFrame.from_dict(items[i], orient=\"index\").transpose()\n",
    "    df = pd.concat([df, temp])\n",
    "df.reset_index(drop=True, inplace=True)"
   ]
  },
  {
   "cell_type": "markdown",
   "metadata": {},
   "source": [
    "## Tags Exploration"
   ]
  },
  {
   "cell_type": "markdown",
   "metadata": {},
   "source": [
    "Build a subset of dataset of description and brief columns "
   ]
  },
  {
   "cell_type": "code",
   "execution_count": 4,
   "metadata": {
    "execution": {
     "iopub.execute_input": "2024-05-17T06:19:54.844951Z",
     "iopub.status.busy": "2024-05-17T06:19:54.843515Z",
     "iopub.status.idle": "2024-05-17T06:25:01.605683Z",
     "shell.execute_reply": "2024-05-17T06:25:01.600370Z",
     "shell.execute_reply.started": "2024-05-17T06:19:54.844951Z"
    },
    "tags": []
   },
   "outputs": [],
   "source": [
    "tags = pd.DataFrame()\n",
    "for i in range(0, len(df)):\n",
    "    temp = pd.get_dummies(df.tags[i]).any().to_frame().transpose()\n",
    "    temp[\"title\"] = df.loc[i].title\n",
    "    tags = pd.concat([tags, temp])"
   ]
  },
  {
   "cell_type": "code",
   "execution_count": 5,
   "metadata": {
    "execution": {
     "iopub.execute_input": "2024-05-17T06:25:01.615081Z",
     "iopub.status.busy": "2024-05-17T06:25:01.612818Z",
     "iopub.status.idle": "2024-05-17T06:25:01.648638Z",
     "shell.execute_reply": "2024-05-17T06:25:01.647176Z",
     "shell.execute_reply.started": "2024-05-17T06:25:01.615081Z"
    },
    "tags": []
   },
   "outputs": [
    {
     "data": {
      "text/plain": [
       "135"
      ]
     },
     "execution_count": 5,
     "metadata": {},
     "output_type": "execute_result"
    }
   ],
   "source": [
    "tagslist = tags.columns.tolist()\n",
    "notr = re.compile(\"^(?!o_ri)\")\n",
    "r = re.compile(\"^o_ri\")\n",
    "orlist = list(filter(r.match, tagslist))  # or_ri tokens  \n",
    "notrlist = list(filter(notr.match, tagslist))  # other tokens\n",
    "\n",
    "len(notrlist)\n"
   ]
  },
  {
   "cell_type": "markdown",
   "metadata": {},
   "source": [
    "A huge part of the tags consisted of the tokens starting with with \"or_ri\", these are supposedly kind of shortcuts of the institution names. Besides the \"or_ri\" tokens, there are 135 unqiue tokens left. Look into composition of the tags. The tokens are based on the filters on the map. Here is a quick and dirty manual check of the token categories."
   ]
  },
  {
   "cell_type": "code",
   "execution_count": null,
   "metadata": {
    "tags": []
   },
   "outputs": [],
   "source": [
    "language = [\n",
    "    \"german\",\n",
    "    \"english\",\n",
    "    \"russian\",\n",
    "    \"arabic\",\n",
    "    \"italian\",\n",
    "    \"azerbaijani\",\n",
    "    \"chinese\",\n",
    "    \"french\",\n",
    "    \"japanese\",\n",
    "    \"korean\",\n",
    "    \"nepali\",\n",
    "    \"polish\",\n",
    "    \"portuguese\",\n",
    "    \"spanish\",\n",
    "    \"thai\",\n",
    "    \"turkish\",\n",
    "    \"urdu\",\n",
    "    \"vietnamese\",\n",
    "    \"farsi\",\n",
    "    #'german_sign_langauge',\n",
    "    \"pashto\",\n",
    "    \"serbian_croatian\",\n",
    "    \"ukranian\",\n",
    "    \"family_center\",\n",
    "    \"victim_support\",\n",
    "    \"kurdish\",\n",
    "    \"bulgarian\",\n",
    "    \"albanian\",\n",
    "    \"romanian\",\n",
    "    \"amharic\",\n",
    "    \"aramaic\",\n",
    "    \"armenian\",\n",
    "    \"chechen\",\n",
    "    \"tigrinya\",\n",
    "    \"romani\",\n",
    "    \"greek\",\n",
    "    \"hebrew\",\n",
    "    \"hungarian\",\n",
    "    \"lithuanian\",\n",
    "    \"tajiki\",\n",
    "    \"turkmen\",\n",
    "    \"uzbek\",\n",
    "    \"hindu\",\n",
    "    \"ukraine\",\n",
    "    \"dutch\",\n",
    "    \"interpreting_service\",\n",
    "    \"suomi\",\n",
    "    \"norwegian\",\n",
    "    \"montenegrin\",\n",
    "    \"macedonian\",\n",
    "    \"slovene\",\n",
    "    \"punjabi\",\n",
    "    \"wolof\",\n",
    "    \"dari\",\n",
    "    \"swahili\",\n",
    "    \"laz\",\n",
    "    # stadtteile\n",
    "    \"reinickendorf\",\n",
    "    \"friedrichshain_kreuzberg\",\n",
    "    \"steglitz_zehlendorf\",\n",
    "    \"tempelhof_schoeneberg\",\n",
    "    \"treptow_koepenik\",\n",
    "    \"marzahn_hellersdorf\",\n",
    "    \"neukoelln\",\n",
    "    \"charlottenburg_wilmersdorf\",\n",
    "    \"lichtenberg\",\n",
    "    \"mitte\",\n",
    "    \"spandau\",\n",
    "    \"pankow\",\n",
    "    # kinder\n",
    "    \"daycare\",\n",
    "    \"day_care\",\n",
    "    \"daycare_children\",\n",
    "    \"kindergarden\",\n",
    "    # youth\n",
    "    \"youth_facility\",\n",
    "    \"young\",\n",
    "    # senior\n",
    "    \"senior_citizens\",\n",
    "    \"senior_citizen_meeting\",\n",
    "    \"retirement_home\",\n",
    "    # impairment\n",
    "    \"wheelchair\",\n",
    "    \"deafblind\",\n",
    "    \"sight_impaired\",\n",
    "    \"speech_impairment\",\n",
    "    \"german_sign_langauge\",\n",
    "    # addiction\n",
    "    \"addicted_persons\",\n",
    "    \"addiction\",\n",
    "    \"hearing_impaired\",\n",
    "    # education\n",
    "    \"education\",\n",
    "    \"educational_center\",\n",
    "    \"arts\",\n",
    "]\n",
    "stadtteil = [\n",
    "    \"reinickendorf\",\n",
    "    \"friedrichshain_kreuzberg\",\n",
    "    \"steglitz_zehlendorf\",\n",
    "    \"tempelhof_schoeneberg\",\n",
    "    \"treptow_koepenik\",\n",
    "    \"marzahn_hellersdorf\",\n",
    "    \"neukoelln\",\n",
    "    \"charlottenburg_wilmersdorf\",\n",
    "    \"lichtenberg\",\n",
    "    \"pankow\",\n",
    "    \"mitte\",\n",
    "    \"spandau\",\n",
    "]\n",
    "daycare = [\"daycare\", \"day_care\", \"daycare_children\", \"kindergarden\"]\n",
    "youth = [\"youth_facility\", \"young\"]\n",
    "senior = [\n",
    "    \"senior_citizens\",\n",
    "    \"senior_citizen_meeting\",\n",
    "    \"retirement_home\",\n",
    "]\n",
    "impairment = [\n",
    "    \"wheelchair\",\n",
    "    \"deafblind\",\n",
    "    \"hearing_impaired\",\n",
    "    \"sight_impaired\",\n",
    "    \"speech_impairment\",\n",
    "    \"german_sign_langauge\",\n",
    "    \"physical_disability\",\n",
    "    \"bathroom_accessible\",\n",
    "]\n",
    "addiction = [\n",
    "    \"addicted_persons\",\n",
    "    \"addiction\",\n",
    "    \"self_help\",\n",
    "]\n",
    "education = [\n",
    "    \"education\",\n",
    "    \"educational_center\",\n",
    "    \"arts\",\n",
    "]\n",
    "care = [\"assisted_living\", \"care\", \"nursing_home\", \"hospice\", \"special_housing\"]\n",
    "\n",
    "\n",
    "[\n",
    "    \"disability_background\",\n",
    "    \"workshop_disabilities\",\n",
    "    \"mental_disability\",\n",
    "    \"bathroom_accessible\",\n",
    "    \"mental_disability_2\",\n",
    "    \"physical_disability\",\n",
    "]\n",
    "[\n",
    "    \"self_help_contact_point\",\n",
    "    \"counseling\",\n",
    "    \"counseling_center\",\n",
    "    \"contact_point_ce\",\n",
    "    \"self_help\",\n",
    "    \"volunteer_work\",\n",
    "    \"refugee_background\",\n",
    "    \"migration_background\",\n",
    "    \"emergency_shelter\",\n",
    "    \"houseless\",\n",
    "]\n",
    "\n",
    "[\n",
    "    \"meeting_center\",\n",
    "    \"lobby\" \"neighborhood\",\n",
    "    \"district_center\",\n",
    "    \"cultural_center\",\n",
    "    \"neighborhood_house\",\n",
    "    \"multigenerational_house\",\n",
    "    \"families\",\n",
    "    \"group\",\n",
    "]\n",
    "\n",
    "[\"assisted_living\", \"nursing_home\", \"hospice\", \"housing\", \"special_housing\", \"care\"]"
   ]
  },
  {
   "cell_type": "markdown",
   "metadata": {},
   "source": [
    "## TextRazor\n",
    "TextRazorAPI provides great technique for entity extraction and topics tagging. \n",
    "It is connected to multiple large knowledge database like freebase, wikipedia and lots more. \n",
    "Using TextRazor for the tagging process: "
   ]
  },
  {
   "cell_type": "code",
   "execution_count": null,
   "metadata": {
    "tags": []
   },
   "outputs": [],
   "source": [
    "desc = pd.DataFrame()\n",
    "for i in range(0, len(df.description)):\n",
    "    temp = pd.DataFrame.from_dict(df.description[i], orient=\"index\").transpose()\n",
    "    temp[\"id\"] = df.id[i]\n",
    "    temp[\"title\"] = df.title[i]\n",
    "    desc = pd.concat([desc, temp]).reset_index(drop=True)\n",
    "\n",
    "desc.reset_index(inplace=True)\n",
    "brief = pd.DataFrame()\n",
    "for i in range(0, len(df.brief)):\n",
    "    temp = pd.DataFrame.from_dict(df.brief[i], orient=\"index\").transpose()\n",
    "    temp[\"id\"] = df.id[i]\n",
    "    temp[\"title\"] = df.title[i]\n",
    "    brief = pd.concat([brief, temp]).reset_index(drop=True)\n",
    "\n",
    "#desc.to_csv(\"desc.csv\", index=False)"
   ]
  },
  {
   "cell_type": "code",
   "execution_count": null,
   "metadata": {
    "tags": []
   },
   "outputs": [],
   "source": [
    "desc = pd.read_csv(\"desc.csv\")\n",
    "desc.reset_index(inplace=True)\n",
    "desc.info()  # .drop(columns = desc.columns[:2],inplace = True)"
   ]
  },
  {
   "cell_type": "code",
   "execution_count": null,
   "metadata": {
    "tags": []
   },
   "outputs": [],
   "source": [
    "import textrazor\n",
    "\n",
    "textrazor.api_key = api_key\n",
    "client = textrazor.TextRazor(extractors=[\"entities\", \"topics\"])\n",
    "client.set_classifiers([\"textrazor_newscodes\"])"
   ]
  },
  {
   "cell_type": "code",
   "execution_count": null,
   "metadata": {
    "tags": []
   },
   "outputs": [],
   "source": [
    "escore = pd.DataFrame()\n",
    "tscore = pd.DataFrame()\n",
    "cscore = pd.DataFrame()\n",
    "# To Do \n",
    "for inst in range(0, len(df)-1):\n",
    "    response = client.analyze(desc.de[inst])\n",
    "\n",
    "    seen = pd.DataFrame(\n",
    "        columns=[\n",
    "            \"id\",\n",
    "            \"relevance_score\",\n",
    "            \"confidence_score\",\n",
    "            \"freebase_types\",\n",
    "            \"desc_index\",\n",
    "        ]\n",
    "    )\n",
    "    entities = list(response.entities())\n",
    "    entities.sort(key=lambda x: x.relevance_score, reverse=True)\n",
    "\n",
    "    for entity in range(0, len(entities) - 1):\n",
    "        seen.loc[entity, \"desc_index\"] = inst\n",
    "        seen.loc[entity, \"id\"] = entities[entity].id\n",
    "        seen.loc[entity, \"relevance_score\"] = entities[entity].relevance_score\n",
    "        seen.loc[entity, \"confidence_score\"] = entities[entity].confidence_score\n",
    "        seen.loc[entity, \"freebase_types\"] = entities[entity].freebase_types\n",
    "        seen = seen.loc[seen.astype(str).drop_duplicates().index]\n",
    "    escore = pd.concat([escore, seen])\n",
    "\n",
    "    topicseen = pd.DataFrame(columns=[\"topic\", \"score\", \"desc_index\"])\n",
    "    topics = list(response.topics())\n",
    "    topics.sort(key=lambda x: x.score, reverse=True)\n",
    "    for topic in range(0, len(topics) - 1):\n",
    "        topicseen.loc[topic, \"desc_index\"] = inst\n",
    "        topicseen.loc[topic, \"topic\"] = topics[topic].label\n",
    "        topicseen.loc[topic, \"score\"] = topics[topic].score\n",
    "    tscore = pd.concat([tscore, topicseen])\n",
    "\n",
    "    catseen = pd.DataFrame(columns=[\"category\", \"score\", \"desc_index\"])\n",
    "    categories = list(response.categories())\n",
    "    categories.sort(key=lambda x: x.score, reverse=True)\n",
    "    for category in range(0, len(categories) - 1):\n",
    "        catseen.loc[category, \"desc_index\"] = inst\n",
    "        catseen.loc[category, \"category\"] = categories[category].label\n",
    "        catseen.loc[category, \"score\"] = categories[category].score\n",
    "    cscore = pd.concat([cscore, catseen])"
   ]
  },
  {
   "cell_type": "code",
   "execution_count": null,
   "metadata": {
    "tags": []
   },
   "outputs": [],
   "source": [
    "float_col = [\"relevance_score\", \"confidence_score\"]\n",
    "for col in float_col:\n",
    "    escore[float_col] = escore[float_col].astype(\"float64\")\n",
    "    tscore[\"score\"] = tscore[\"score\"].astype(\"float64\")\n",
    "    cscore[\"score\"] = cscore[\"score\"].astype(\"float64\")\n",
    "    \n",
    "#escore.to_csv(\"escore.csv\", index=False)\n",
    "#tscore.to_csv(\"tscore.csv\", index=False)\n",
    "#cscore.to_csv(\"cscore.csv\", index=False)"
   ]
  },
  {
   "cell_type": "markdown",
   "metadata": {
    "tags": []
   },
   "source": [
    "## Data Consolidation"
   ]
  },
  {
   "cell_type": "markdown",
   "metadata": {},
   "source": [
    "TextRazor extracts from the description texts relevant entities and topics prioritised by scores between [0,1], 1 means the entity or topic has the highest relevance in the corpus and 0 means zero relevance. "
   ]
  },
  {
   "cell_type": "code",
   "execution_count": 6,
   "metadata": {
    "execution": {
     "iopub.execute_input": "2024-05-17T06:28:26.006275Z",
     "iopub.status.busy": "2024-05-17T06:28:25.966904Z",
     "iopub.status.idle": "2024-05-17T06:28:28.234350Z",
     "shell.execute_reply": "2024-05-17T06:28:28.232960Z",
     "shell.execute_reply.started": "2024-05-17T06:28:26.005253Z"
    },
    "tags": []
   },
   "outputs": [
    {
     "data": {
      "text/html": [
       "<div>\n",
       "<style scoped>\n",
       "    .dataframe tbody tr th:only-of-type {\n",
       "        vertical-align: middle;\n",
       "    }\n",
       "\n",
       "    .dataframe tbody tr th {\n",
       "        vertical-align: top;\n",
       "    }\n",
       "\n",
       "    .dataframe thead th {\n",
       "        text-align: right;\n",
       "    }\n",
       "</style>\n",
       "<table border=\"1\" class=\"dataframe\">\n",
       "  <thead>\n",
       "    <tr style=\"text-align: right;\">\n",
       "      <th></th>\n",
       "      <th>topic</th>\n",
       "      <th>score</th>\n",
       "      <th>desc_index</th>\n",
       "    </tr>\n",
       "  </thead>\n",
       "  <tbody>\n",
       "    <tr>\n",
       "      <th>0</th>\n",
       "      <td>Commercial cleaning</td>\n",
       "      <td>1.0000</td>\n",
       "      <td>0</td>\n",
       "    </tr>\n",
       "    <tr>\n",
       "      <th>1</th>\n",
       "      <td>Hygiene</td>\n",
       "      <td>1.0000</td>\n",
       "      <td>0</td>\n",
       "    </tr>\n",
       "    <tr>\n",
       "      <th>2</th>\n",
       "      <td>Cleaning</td>\n",
       "      <td>1.0000</td>\n",
       "      <td>0</td>\n",
       "    </tr>\n",
       "    <tr>\n",
       "      <th>3</th>\n",
       "      <td>Home</td>\n",
       "      <td>1.0000</td>\n",
       "      <td>0</td>\n",
       "    </tr>\n",
       "    <tr>\n",
       "      <th>4</th>\n",
       "      <td>Cleaning industry</td>\n",
       "      <td>0.8598</td>\n",
       "      <td>0</td>\n",
       "    </tr>\n",
       "    <tr>\n",
       "      <th>...</th>\n",
       "      <td>...</td>\n",
       "      <td>...</td>\n",
       "      <td>...</td>\n",
       "    </tr>\n",
       "    <tr>\n",
       "      <th>195134</th>\n",
       "      <td>Health</td>\n",
       "      <td>1.0000</td>\n",
       "      <td>2286</td>\n",
       "    </tr>\n",
       "    <tr>\n",
       "      <th>195135</th>\n",
       "      <td>Health care</td>\n",
       "      <td>0.9794</td>\n",
       "      <td>2286</td>\n",
       "    </tr>\n",
       "    <tr>\n",
       "      <th>195136</th>\n",
       "      <td>Agriculture</td>\n",
       "      <td>0.8678</td>\n",
       "      <td>2286</td>\n",
       "    </tr>\n",
       "    <tr>\n",
       "      <th>195137</th>\n",
       "      <td>Psychotherapy</td>\n",
       "      <td>0.8670</td>\n",
       "      <td>2286</td>\n",
       "    </tr>\n",
       "    <tr>\n",
       "      <th>195138</th>\n",
       "      <td>Assistance</td>\n",
       "      <td>0.8342</td>\n",
       "      <td>2286</td>\n",
       "    </tr>\n",
       "  </tbody>\n",
       "</table>\n",
       "<p>9982 rows × 3 columns</p>\n",
       "</div>"
      ],
      "text/plain": [
       "                      topic   score  desc_index\n",
       "0       Commercial cleaning  1.0000           0\n",
       "1                   Hygiene  1.0000           0\n",
       "2                  Cleaning  1.0000           0\n",
       "3                      Home  1.0000           0\n",
       "4         Cleaning industry  0.8598           0\n",
       "...                     ...     ...         ...\n",
       "195134               Health  1.0000        2286\n",
       "195135          Health care  0.9794        2286\n",
       "195136          Agriculture  0.8678        2286\n",
       "195137        Psychotherapy  0.8670        2286\n",
       "195138           Assistance  0.8342        2286\n",
       "\n",
       "[9982 rows x 3 columns]"
      ]
     },
     "execution_count": 6,
     "metadata": {},
     "output_type": "execute_result"
    }
   ],
   "source": [
    "escore = pd.read_csv(\"data/escore.csv\")\n",
    "tscore = pd.read_csv(\"data/tscore.csv\")\n",
    "df.reset_index(inplace = True)\n",
    "\n",
    "# Select Top5 Most relevant topics for each description text\n",
    "tscore_f = tscore.sort_values([\"desc_index\", \"score\"], ascending=[True, False])\n",
    "tscore_f = tscore_f.groupby(\"desc_index\").head(5)\n",
    "tscore_f"
   ]
  },
  {
   "cell_type": "code",
   "execution_count": 25,
   "metadata": {
    "execution": {
     "iopub.execute_input": "2024-05-17T06:37:10.142707Z",
     "iopub.status.busy": "2024-05-17T06:37:10.141534Z",
     "iopub.status.idle": "2024-05-17T06:37:10.255128Z",
     "shell.execute_reply": "2024-05-17T06:37:10.254129Z",
     "shell.execute_reply.started": "2024-05-17T06:37:10.142707Z"
    },
    "tags": []
   },
   "outputs": [
    {
     "data": {
      "application/vnd.plotly.v1+json": {
       "config": {
        "plotlyServerURL": "https://plot.ly"
       },
       "data": [
        {
         "alignmentgroup": "True",
         "hovertemplate": "topic=%{x}<br>desc_index=%{y}<extra></extra>",
         "legendgroup": "",
         "marker": {
          "color": "#636efa",
          "pattern": {
           "shape": ""
          }
         },
         "name": "",
         "offsetgroup": "",
         "orientation": "v",
         "showlegend": false,
         "textposition": "auto",
         "type": "bar",
         "x": [
          "Health",
          "Social issues",
          "Health care",
          "Education",
          "Assistance",
          "Social psychology",
          "Disability",
          "Behavioural sciences",
          "Psychology",
          "Culture",
          "Clinical medicine",
          "Politics",
          "Social programs",
          "Medicine",
          "Human development",
          "Learning",
          "Liberal arts education",
          "Cognition",
          "Mental health",
          "Behavior modification",
          "Berlin",
          "Human life stages",
          "Youth",
          "Medical specialties",
          "Social work",
          "Branches of science",
          "Health sciences",
          "Psychological concepts",
          "Education theory",
          "Group processes",
          "Childhood",
          "Family",
          "Philosophy",
          "Medical treatments",
          "Mental disorders",
          "Geriatrics",
          "Caregiving",
          "Pedagogy",
          "Elderly care",
          "Human communication",
          "Welfare",
          "Issues in ethics",
          "Diseases and disorders",
          "Business",
          "Housing",
          "Work",
          "Psychotherapy",
          "Teaching",
          "Public sphere",
          "Substance-related disorders",
          "Causes of death",
          "Schools",
          "Human diseases and disorders",
          "Volunteering",
          "Social economy",
          "Social influence",
          "Home",
          "Addiction psychiatry",
          "Living arrangements",
          "Nursing",
          "Social aspects of psychoactive drugs",
          "Germany",
          "Equality rights",
          "Addiction",
          "Community building",
          "Economy",
          "Organization",
          "Accessibility",
          "Hot drinks",
          "Food watchlist articles",
          "Justice",
          "Therapy",
          "Residential buildings",
          "Support groups",
          "Developmental disabilities",
          "Emotions",
          "Drinks",
          "Treatment of mental disorders",
          "Popular psychology",
          "Organizational theory",
          "Applied psychology",
          "Abnormal psychology",
          "Humanitarian aid",
          "Law",
          "Individual psychoactive drugs",
          "Social inequality",
          "Human rights",
          "Unpaid work",
          "Homelessness",
          "Human sexuality",
          "Welfare and service organizations",
          "Cognitive science",
          "Arts",
          "Public services",
          "Primate behavior",
          "Child welfare",
          "Cuisine",
          "Substance dependence",
          "Society of Germany",
          "Applied philosophy",
          "The arts",
          "Educational stages",
          "Performing arts",
          "Technology",
          "Charity",
          "LGBT",
          "Communication",
          "Nursing specialties",
          "Personal development",
          "Gender equality",
          "Right to housing",
          "Epidemiology",
          "Foods",
          "German state capitals",
          "Organizational behavior",
          "Labor",
          "Coffee",
          "Housing for the elderly",
          "Language",
          "Computing",
          "Quality of life",
          "Poverty",
          "School types",
          "Youth organization stubs",
          "Youth organizations",
          "Psychiatry",
          "Identity politics",
          "Emotion",
          "Labor relations",
          "Palliative care",
          "Interdisciplinary subfields",
          "Parenting",
          "Interpersonal relationships",
          "Employment",
          "States of Germany",
          "Socioeconomics",
          "Non-profit organizations",
          "Hamburg",
          "Educational institutions",
          "Political science",
          "Assisted living",
          "Eating behaviors of humans",
          "Kindergarten",
          "Old age",
          "German city-states",
          "Human gender and sexuality",
          "Human migration",
          "Community",
          "Immigration",
          "Cultural globalization"
         ],
         "xaxis": "x",
         "y": [
          591,
          470,
          358,
          248,
          236,
          228,
          224,
          190,
          189,
          144,
          115,
          111,
          109,
          96,
          92,
          91,
          87,
          83,
          80,
          78,
          69,
          68,
          66,
          66,
          59,
          57,
          57,
          55,
          49,
          49,
          49,
          48,
          39,
          37,
          36,
          36,
          35,
          34,
          33,
          32,
          31,
          31,
          30,
          30,
          29,
          29,
          28,
          27,
          27,
          26,
          26,
          26,
          25,
          25,
          25,
          25,
          25,
          25,
          25,
          24,
          24,
          24,
          24,
          24,
          24,
          23,
          23,
          23,
          23,
          22,
          22,
          22,
          22,
          22,
          22,
          21,
          21,
          21,
          21,
          21,
          20,
          20,
          20,
          20,
          20,
          19,
          19,
          18,
          18,
          18,
          18,
          18,
          18,
          18,
          17,
          17,
          17,
          17,
          17,
          17,
          17,
          16,
          16,
          16,
          16,
          16,
          16,
          15,
          15,
          15,
          15,
          15,
          14,
          14,
          14,
          14,
          14,
          14,
          14,
          13,
          13,
          13,
          13,
          13,
          13,
          13,
          13,
          13,
          13,
          12,
          12,
          12,
          12,
          12,
          12,
          12,
          12,
          12,
          12,
          12,
          12,
          12,
          11,
          11,
          11,
          11,
          11,
          11,
          11,
          11
         ],
         "yaxis": "y"
        }
       ],
       "layout": {
        "autosize": true,
        "barmode": "relative",
        "legend": {
         "tracegroupgap": 0
        },
        "margin": {
         "t": 60
        },
        "template": {
         "data": {
          "bar": [
           {
            "error_x": {
             "color": "#2a3f5f"
            },
            "error_y": {
             "color": "#2a3f5f"
            },
            "marker": {
             "line": {
              "color": "#E5ECF6",
              "width": 0.5
             },
             "pattern": {
              "fillmode": "overlay",
              "size": 10,
              "solidity": 0.2
             }
            },
            "type": "bar"
           }
          ],
          "barpolar": [
           {
            "marker": {
             "line": {
              "color": "#E5ECF6",
              "width": 0.5
             },
             "pattern": {
              "fillmode": "overlay",
              "size": 10,
              "solidity": 0.2
             }
            },
            "type": "barpolar"
           }
          ],
          "carpet": [
           {
            "aaxis": {
             "endlinecolor": "#2a3f5f",
             "gridcolor": "white",
             "linecolor": "white",
             "minorgridcolor": "white",
             "startlinecolor": "#2a3f5f"
            },
            "baxis": {
             "endlinecolor": "#2a3f5f",
             "gridcolor": "white",
             "linecolor": "white",
             "minorgridcolor": "white",
             "startlinecolor": "#2a3f5f"
            },
            "type": "carpet"
           }
          ],
          "choropleth": [
           {
            "colorbar": {
             "outlinewidth": 0,
             "ticks": ""
            },
            "type": "choropleth"
           }
          ],
          "contour": [
           {
            "colorbar": {
             "outlinewidth": 0,
             "ticks": ""
            },
            "colorscale": [
             [
              0,
              "#0d0887"
             ],
             [
              0.1111111111111111,
              "#46039f"
             ],
             [
              0.2222222222222222,
              "#7201a8"
             ],
             [
              0.3333333333333333,
              "#9c179e"
             ],
             [
              0.4444444444444444,
              "#bd3786"
             ],
             [
              0.5555555555555556,
              "#d8576b"
             ],
             [
              0.6666666666666666,
              "#ed7953"
             ],
             [
              0.7777777777777778,
              "#fb9f3a"
             ],
             [
              0.8888888888888888,
              "#fdca26"
             ],
             [
              1,
              "#f0f921"
             ]
            ],
            "type": "contour"
           }
          ],
          "contourcarpet": [
           {
            "colorbar": {
             "outlinewidth": 0,
             "ticks": ""
            },
            "type": "contourcarpet"
           }
          ],
          "heatmap": [
           {
            "colorbar": {
             "outlinewidth": 0,
             "ticks": ""
            },
            "colorscale": [
             [
              0,
              "#0d0887"
             ],
             [
              0.1111111111111111,
              "#46039f"
             ],
             [
              0.2222222222222222,
              "#7201a8"
             ],
             [
              0.3333333333333333,
              "#9c179e"
             ],
             [
              0.4444444444444444,
              "#bd3786"
             ],
             [
              0.5555555555555556,
              "#d8576b"
             ],
             [
              0.6666666666666666,
              "#ed7953"
             ],
             [
              0.7777777777777778,
              "#fb9f3a"
             ],
             [
              0.8888888888888888,
              "#fdca26"
             ],
             [
              1,
              "#f0f921"
             ]
            ],
            "type": "heatmap"
           }
          ],
          "heatmapgl": [
           {
            "colorbar": {
             "outlinewidth": 0,
             "ticks": ""
            },
            "colorscale": [
             [
              0,
              "#0d0887"
             ],
             [
              0.1111111111111111,
              "#46039f"
             ],
             [
              0.2222222222222222,
              "#7201a8"
             ],
             [
              0.3333333333333333,
              "#9c179e"
             ],
             [
              0.4444444444444444,
              "#bd3786"
             ],
             [
              0.5555555555555556,
              "#d8576b"
             ],
             [
              0.6666666666666666,
              "#ed7953"
             ],
             [
              0.7777777777777778,
              "#fb9f3a"
             ],
             [
              0.8888888888888888,
              "#fdca26"
             ],
             [
              1,
              "#f0f921"
             ]
            ],
            "type": "heatmapgl"
           }
          ],
          "histogram": [
           {
            "marker": {
             "pattern": {
              "fillmode": "overlay",
              "size": 10,
              "solidity": 0.2
             }
            },
            "type": "histogram"
           }
          ],
          "histogram2d": [
           {
            "colorbar": {
             "outlinewidth": 0,
             "ticks": ""
            },
            "colorscale": [
             [
              0,
              "#0d0887"
             ],
             [
              0.1111111111111111,
              "#46039f"
             ],
             [
              0.2222222222222222,
              "#7201a8"
             ],
             [
              0.3333333333333333,
              "#9c179e"
             ],
             [
              0.4444444444444444,
              "#bd3786"
             ],
             [
              0.5555555555555556,
              "#d8576b"
             ],
             [
              0.6666666666666666,
              "#ed7953"
             ],
             [
              0.7777777777777778,
              "#fb9f3a"
             ],
             [
              0.8888888888888888,
              "#fdca26"
             ],
             [
              1,
              "#f0f921"
             ]
            ],
            "type": "histogram2d"
           }
          ],
          "histogram2dcontour": [
           {
            "colorbar": {
             "outlinewidth": 0,
             "ticks": ""
            },
            "colorscale": [
             [
              0,
              "#0d0887"
             ],
             [
              0.1111111111111111,
              "#46039f"
             ],
             [
              0.2222222222222222,
              "#7201a8"
             ],
             [
              0.3333333333333333,
              "#9c179e"
             ],
             [
              0.4444444444444444,
              "#bd3786"
             ],
             [
              0.5555555555555556,
              "#d8576b"
             ],
             [
              0.6666666666666666,
              "#ed7953"
             ],
             [
              0.7777777777777778,
              "#fb9f3a"
             ],
             [
              0.8888888888888888,
              "#fdca26"
             ],
             [
              1,
              "#f0f921"
             ]
            ],
            "type": "histogram2dcontour"
           }
          ],
          "mesh3d": [
           {
            "colorbar": {
             "outlinewidth": 0,
             "ticks": ""
            },
            "type": "mesh3d"
           }
          ],
          "parcoords": [
           {
            "line": {
             "colorbar": {
              "outlinewidth": 0,
              "ticks": ""
             }
            },
            "type": "parcoords"
           }
          ],
          "pie": [
           {
            "automargin": true,
            "type": "pie"
           }
          ],
          "scatter": [
           {
            "fillpattern": {
             "fillmode": "overlay",
             "size": 10,
             "solidity": 0.2
            },
            "type": "scatter"
           }
          ],
          "scatter3d": [
           {
            "line": {
             "colorbar": {
              "outlinewidth": 0,
              "ticks": ""
             }
            },
            "marker": {
             "colorbar": {
              "outlinewidth": 0,
              "ticks": ""
             }
            },
            "type": "scatter3d"
           }
          ],
          "scattercarpet": [
           {
            "marker": {
             "colorbar": {
              "outlinewidth": 0,
              "ticks": ""
             }
            },
            "type": "scattercarpet"
           }
          ],
          "scattergeo": [
           {
            "marker": {
             "colorbar": {
              "outlinewidth": 0,
              "ticks": ""
             }
            },
            "type": "scattergeo"
           }
          ],
          "scattergl": [
           {
            "marker": {
             "colorbar": {
              "outlinewidth": 0,
              "ticks": ""
             }
            },
            "type": "scattergl"
           }
          ],
          "scattermapbox": [
           {
            "marker": {
             "colorbar": {
              "outlinewidth": 0,
              "ticks": ""
             }
            },
            "type": "scattermapbox"
           }
          ],
          "scatterpolar": [
           {
            "marker": {
             "colorbar": {
              "outlinewidth": 0,
              "ticks": ""
             }
            },
            "type": "scatterpolar"
           }
          ],
          "scatterpolargl": [
           {
            "marker": {
             "colorbar": {
              "outlinewidth": 0,
              "ticks": ""
             }
            },
            "type": "scatterpolargl"
           }
          ],
          "scatterternary": [
           {
            "marker": {
             "colorbar": {
              "outlinewidth": 0,
              "ticks": ""
             }
            },
            "type": "scatterternary"
           }
          ],
          "surface": [
           {
            "colorbar": {
             "outlinewidth": 0,
             "ticks": ""
            },
            "colorscale": [
             [
              0,
              "#0d0887"
             ],
             [
              0.1111111111111111,
              "#46039f"
             ],
             [
              0.2222222222222222,
              "#7201a8"
             ],
             [
              0.3333333333333333,
              "#9c179e"
             ],
             [
              0.4444444444444444,
              "#bd3786"
             ],
             [
              0.5555555555555556,
              "#d8576b"
             ],
             [
              0.6666666666666666,
              "#ed7953"
             ],
             [
              0.7777777777777778,
              "#fb9f3a"
             ],
             [
              0.8888888888888888,
              "#fdca26"
             ],
             [
              1,
              "#f0f921"
             ]
            ],
            "type": "surface"
           }
          ],
          "table": [
           {
            "cells": {
             "fill": {
              "color": "#EBF0F8"
             },
             "line": {
              "color": "white"
             }
            },
            "header": {
             "fill": {
              "color": "#C8D4E3"
             },
             "line": {
              "color": "white"
             }
            },
            "type": "table"
           }
          ]
         },
         "layout": {
          "annotationdefaults": {
           "arrowcolor": "#2a3f5f",
           "arrowhead": 0,
           "arrowwidth": 1
          },
          "autotypenumbers": "strict",
          "coloraxis": {
           "colorbar": {
            "outlinewidth": 0,
            "ticks": ""
           }
          },
          "colorscale": {
           "diverging": [
            [
             0,
             "#8e0152"
            ],
            [
             0.1,
             "#c51b7d"
            ],
            [
             0.2,
             "#de77ae"
            ],
            [
             0.3,
             "#f1b6da"
            ],
            [
             0.4,
             "#fde0ef"
            ],
            [
             0.5,
             "#f7f7f7"
            ],
            [
             0.6,
             "#e6f5d0"
            ],
            [
             0.7,
             "#b8e186"
            ],
            [
             0.8,
             "#7fbc41"
            ],
            [
             0.9,
             "#4d9221"
            ],
            [
             1,
             "#276419"
            ]
           ],
           "sequential": [
            [
             0,
             "#0d0887"
            ],
            [
             0.1111111111111111,
             "#46039f"
            ],
            [
             0.2222222222222222,
             "#7201a8"
            ],
            [
             0.3333333333333333,
             "#9c179e"
            ],
            [
             0.4444444444444444,
             "#bd3786"
            ],
            [
             0.5555555555555556,
             "#d8576b"
            ],
            [
             0.6666666666666666,
             "#ed7953"
            ],
            [
             0.7777777777777778,
             "#fb9f3a"
            ],
            [
             0.8888888888888888,
             "#fdca26"
            ],
            [
             1,
             "#f0f921"
            ]
           ],
           "sequentialminus": [
            [
             0,
             "#0d0887"
            ],
            [
             0.1111111111111111,
             "#46039f"
            ],
            [
             0.2222222222222222,
             "#7201a8"
            ],
            [
             0.3333333333333333,
             "#9c179e"
            ],
            [
             0.4444444444444444,
             "#bd3786"
            ],
            [
             0.5555555555555556,
             "#d8576b"
            ],
            [
             0.6666666666666666,
             "#ed7953"
            ],
            [
             0.7777777777777778,
             "#fb9f3a"
            ],
            [
             0.8888888888888888,
             "#fdca26"
            ],
            [
             1,
             "#f0f921"
            ]
           ]
          },
          "colorway": [
           "#636efa",
           "#EF553B",
           "#00cc96",
           "#ab63fa",
           "#FFA15A",
           "#19d3f3",
           "#FF6692",
           "#B6E880",
           "#FF97FF",
           "#FECB52"
          ],
          "font": {
           "color": "#2a3f5f"
          },
          "geo": {
           "bgcolor": "white",
           "lakecolor": "white",
           "landcolor": "#E5ECF6",
           "showlakes": true,
           "showland": true,
           "subunitcolor": "white"
          },
          "hoverlabel": {
           "align": "left"
          },
          "hovermode": "closest",
          "mapbox": {
           "style": "light"
          },
          "paper_bgcolor": "white",
          "plot_bgcolor": "#E5ECF6",
          "polar": {
           "angularaxis": {
            "gridcolor": "white",
            "linecolor": "white",
            "ticks": ""
           },
           "bgcolor": "#E5ECF6",
           "radialaxis": {
            "gridcolor": "white",
            "linecolor": "white",
            "ticks": ""
           }
          },
          "scene": {
           "xaxis": {
            "backgroundcolor": "#E5ECF6",
            "gridcolor": "white",
            "gridwidth": 2,
            "linecolor": "white",
            "showbackground": true,
            "ticks": "",
            "zerolinecolor": "white"
           },
           "yaxis": {
            "backgroundcolor": "#E5ECF6",
            "gridcolor": "white",
            "gridwidth": 2,
            "linecolor": "white",
            "showbackground": true,
            "ticks": "",
            "zerolinecolor": "white"
           },
           "zaxis": {
            "backgroundcolor": "#E5ECF6",
            "gridcolor": "white",
            "gridwidth": 2,
            "linecolor": "white",
            "showbackground": true,
            "ticks": "",
            "zerolinecolor": "white"
           }
          },
          "shapedefaults": {
           "line": {
            "color": "#2a3f5f"
           }
          },
          "ternary": {
           "aaxis": {
            "gridcolor": "white",
            "linecolor": "white",
            "ticks": ""
           },
           "baxis": {
            "gridcolor": "white",
            "linecolor": "white",
            "ticks": ""
           },
           "bgcolor": "#E5ECF6",
           "caxis": {
            "gridcolor": "white",
            "linecolor": "white",
            "ticks": ""
           }
          },
          "title": {
           "x": 0.05
          },
          "xaxis": {
           "automargin": true,
           "gridcolor": "white",
           "linecolor": "white",
           "ticks": "",
           "title": {
            "standoff": 15
           },
           "zerolinecolor": "white",
           "zerolinewidth": 2
          },
          "yaxis": {
           "automargin": true,
           "gridcolor": "white",
           "linecolor": "white",
           "ticks": "",
           "title": {
            "standoff": 15
           },
           "zerolinecolor": "white",
           "zerolinewidth": 2
          }
         }
        },
        "xaxis": {
         "anchor": "y",
         "autorange": true,
         "domain": [
          0,
          1
         ],
         "range": [
          -0.5,
          149.5
         ],
         "title": {
          "text": "topic"
         },
         "type": "category"
        },
        "yaxis": {
         "anchor": "x",
         "autorange": true,
         "domain": [
          0,
          1
         ],
         "range": [
          0,
          622.1052631578948
         ],
         "title": {
          "text": "desc_index"
         },
         "type": "linear"
        }
       }
      },
      "image/png": "[encoded data removed]",
      "text/html": [
       "<div>                            <div id=\"9ad584dd-fffb-4355-bf54-0c0495413416\" class=\"plotly-graph-div\" style=\"height:525px; width:100%;\"></div>            <script type=\"text/javascript\">                require([\"plotly\"], function(Plotly) {                    window.PLOTLYENV=window.PLOTLYENV || {};                                    if (document.getElementById(\"9ad584dd-fffb-4355-bf54-0c0495413416\")) {                    Plotly.newPlot(                        \"9ad584dd-fffb-4355-bf54-0c0495413416\",                        [{\"alignmentgroup\":\"True\",\"hovertemplate\":\"topic=%{x}\\u003cbr\\u003edesc_index=%{y}\\u003cextra\\u003e\\u003c\\u002fextra\\u003e\",\"legendgroup\":\"\",\"marker\":{\"color\":\"#636efa\",\"pattern\":{\"shape\":\"\"}},\"name\":\"\",\"offsetgroup\":\"\",\"orientation\":\"v\",\"showlegend\":false,\"textposition\":\"auto\",\"x\":[\"Health\",\"Social issues\",\"Health care\",\"Education\",\"Assistance\",\"Social psychology\",\"Disability\",\"Behavioural sciences\",\"Psychology\",\"Culture\",\"Clinical medicine\",\"Politics\",\"Social programs\",\"Medicine\",\"Human development\",\"Learning\",\"Liberal arts education\",\"Cognition\",\"Mental health\",\"Behavior modification\",\"Berlin\",\"Human life stages\",\"Youth\",\"Medical specialties\",\"Social work\",\"Branches of science\",\"Health sciences\",\"Psychological concepts\",\"Education theory\",\"Group processes\",\"Childhood\",\"Family\",\"Philosophy\",\"Medical treatments\",\"Mental disorders\",\"Geriatrics\",\"Caregiving\",\"Pedagogy\",\"Elderly care\",\"Human communication\",\"Welfare\",\"Issues in ethics\",\"Diseases and disorders\",\"Business\",\"Housing\",\"Work\",\"Psychotherapy\",\"Teaching\",\"Public sphere\",\"Substance-related disorders\",\"Causes of death\",\"Schools\",\"Human diseases and disorders\",\"Volunteering\",\"Social economy\",\"Social influence\",\"Home\",\"Addiction psychiatry\",\"Living arrangements\",\"Nursing\",\"Social aspects of psychoactive drugs\",\"Germany\",\"Equality rights\",\"Addiction\",\"Community building\",\"Economy\",\"Organization\",\"Accessibility\",\"Hot drinks\",\"Food watchlist articles\",\"Justice\",\"Therapy\",\"Residential buildings\",\"Support groups\",\"Developmental disabilities\",\"Emotions\",\"Drinks\",\"Treatment of mental disorders\",\"Popular psychology\",\"Organizational theory\",\"Applied psychology\",\"Abnormal psychology\",\"Humanitarian aid\",\"Law\",\"Individual psychoactive drugs\",\"Social inequality\",\"Human rights\",\"Unpaid work\",\"Homelessness\",\"Human sexuality\",\"Welfare and service organizations\",\"Cognitive science\",\"Arts\",\"Public services\",\"Primate behavior\",\"Child welfare\",\"Cuisine\",\"Substance dependence\",\"Society of Germany\",\"Applied philosophy\",\"The arts\",\"Educational stages\",\"Performing arts\",\"Technology\",\"Charity\",\"LGBT\",\"Communication\",\"Nursing specialties\",\"Personal development\",\"Gender equality\",\"Right to housing\",\"Epidemiology\",\"Foods\",\"German state capitals\",\"Organizational behavior\",\"Labor\",\"Coffee\",\"Housing for the elderly\",\"Language\",\"Computing\",\"Quality of life\",\"Poverty\",\"School types\",\"Youth organization stubs\",\"Youth organizations\",\"Psychiatry\",\"Identity politics\",\"Emotion\",\"Labor relations\",\"Palliative care\",\"Interdisciplinary subfields\",\"Parenting\",\"Interpersonal relationships\",\"Employment\",\"States of Germany\",\"Socioeconomics\",\"Non-profit organizations\",\"Hamburg\",\"Educational institutions\",\"Political science\",\"Assisted living\",\"Eating behaviors of humans\",\"Kindergarten\",\"Old age\",\"German city-states\",\"Human gender and sexuality\",\"Human migration\",\"Community\",\"Immigration\",\"Cultural globalization\"],\"xaxis\":\"x\",\"y\":[591,470,358,248,236,228,224,190,189,144,115,111,109,96,92,91,87,83,80,78,69,68,66,66,59,57,57,55,49,49,49,48,39,37,36,36,35,34,33,32,31,31,30,30,29,29,28,27,27,26,26,26,25,25,25,25,25,25,25,24,24,24,24,24,24,23,23,23,23,22,22,22,22,22,22,21,21,21,21,21,20,20,20,20,20,19,19,18,18,18,18,18,18,18,17,17,17,17,17,17,17,16,16,16,16,16,16,15,15,15,15,15,14,14,14,14,14,14,14,13,13,13,13,13,13,13,13,13,13,12,12,12,12,12,12,12,12,12,12,12,12,12,11,11,11,11,11,11,11,11],\"yaxis\":\"y\",\"type\":\"bar\"}],                        {\"template\":{\"data\":{\"histogram2dcontour\":[{\"type\":\"histogram2dcontour\",\"colorbar\":{\"outlinewidth\":0,\"ticks\":\"\"},\"colorscale\":[[0.0,\"#0d0887\"],[0.1111111111111111,\"#46039f\"],[0.2222222222222222,\"#7201a8\"],[0.3333333333333333,\"#9c179e\"],[0.4444444444444444,\"#bd3786\"],[0.5555555555555556,\"#d8576b\"],[0.6666666666666666,\"#ed7953\"],[0.7777777777777778,\"#fb9f3a\"],[0.8888888888888888,\"#fdca26\"],[1.0,\"#f0f921\"]]}],\"choropleth\":[{\"type\":\"choropleth\",\"colorbar\":{\"outlinewidth\":0,\"ticks\":\"\"}}],\"histogram2d\":[{\"type\":\"histogram2d\",\"colorbar\":{\"outlinewidth\":0,\"ticks\":\"\"},\"colorscale\":[[0.0,\"#0d0887\"],[0.1111111111111111,\"#46039f\"],[0.2222222222222222,\"#7201a8\"],[0.3333333333333333,\"#9c179e\"],[0.4444444444444444,\"#bd3786\"],[0.5555555555555556,\"#d8576b\"],[0.6666666666666666,\"#ed7953\"],[0.7777777777777778,\"#fb9f3a\"],[0.8888888888888888,\"#fdca26\"],[1.0,\"#f0f921\"]]}],\"heatmap\":[{\"type\":\"heatmap\",\"colorbar\":{\"outlinewidth\":0,\"ticks\":\"\"},\"colorscale\":[[0.0,\"#0d0887\"],[0.1111111111111111,\"#46039f\"],[0.2222222222222222,\"#7201a8\"],[0.3333333333333333,\"#9c179e\"],[0.4444444444444444,\"#bd3786\"],[0.5555555555555556,\"#d8576b\"],[0.6666666666666666,\"#ed7953\"],[0.7777777777777778,\"#fb9f3a\"],[0.8888888888888888,\"#fdca26\"],[1.0,\"#f0f921\"]]}],\"heatmapgl\":[{\"type\":\"heatmapgl\",\"colorbar\":{\"outlinewidth\":0,\"ticks\":\"\"},\"colorscale\":[[0.0,\"#0d0887\"],[0.1111111111111111,\"#46039f\"],[0.2222222222222222,\"#7201a8\"],[0.3333333333333333,\"#9c179e\"],[0.4444444444444444,\"#bd3786\"],[0.5555555555555556,\"#d8576b\"],[0.6666666666666666,\"#ed7953\"],[0.7777777777777778,\"#fb9f3a\"],[0.8888888888888888,\"#fdca26\"],[1.0,\"#f0f921\"]]}],\"contourcarpet\":[{\"type\":\"contourcarpet\",\"colorbar\":{\"outlinewidth\":0,\"ticks\":\"\"}}],\"contour\":[{\"type\":\"contour\",\"colorbar\":{\"outlinewidth\":0,\"ticks\":\"\"},\"colorscale\":[[0.0,\"#0d0887\"],[0.1111111111111111,\"#46039f\"],[0.2222222222222222,\"#7201a8\"],[0.3333333333333333,\"#9c179e\"],[0.4444444444444444,\"#bd3786\"],[0.5555555555555556,\"#d8576b\"],[0.6666666666666666,\"#ed7953\"],[0.7777777777777778,\"#fb9f3a\"],[0.8888888888888888,\"#fdca26\"],[1.0,\"#f0f921\"]]}],\"surface\":[{\"type\":\"surface\",\"colorbar\":{\"outlinewidth\":0,\"ticks\":\"\"},\"colorscale\":[[0.0,\"#0d0887\"],[0.1111111111111111,\"#46039f\"],[0.2222222222222222,\"#7201a8\"],[0.3333333333333333,\"#9c179e\"],[0.4444444444444444,\"#bd3786\"],[0.5555555555555556,\"#d8576b\"],[0.6666666666666666,\"#ed7953\"],[0.7777777777777778,\"#fb9f3a\"],[0.8888888888888888,\"#fdca26\"],[1.0,\"#f0f921\"]]}],\"mesh3d\":[{\"type\":\"mesh3d\",\"colorbar\":{\"outlinewidth\":0,\"ticks\":\"\"}}],\"scatter\":[{\"fillpattern\":{\"fillmode\":\"overlay\",\"size\":10,\"solidity\":0.2},\"type\":\"scatter\"}],\"parcoords\":[{\"type\":\"parcoords\",\"line\":{\"colorbar\":{\"outlinewidth\":0,\"ticks\":\"\"}}}],\"scatterpolargl\":[{\"type\":\"scatterpolargl\",\"marker\":{\"colorbar\":{\"outlinewidth\":0,\"ticks\":\"\"}}}],\"bar\":[{\"error_x\":{\"color\":\"#2a3f5f\"},\"error_y\":{\"color\":\"#2a3f5f\"},\"marker\":{\"line\":{\"color\":\"#E5ECF6\",\"width\":0.5},\"pattern\":{\"fillmode\":\"overlay\",\"size\":10,\"solidity\":0.2}},\"type\":\"bar\"}],\"scattergeo\":[{\"type\":\"scattergeo\",\"marker\":{\"colorbar\":{\"outlinewidth\":0,\"ticks\":\"\"}}}],\"scatterpolar\":[{\"type\":\"scatterpolar\",\"marker\":{\"colorbar\":{\"outlinewidth\":0,\"ticks\":\"\"}}}],\"histogram\":[{\"marker\":{\"pattern\":{\"fillmode\":\"overlay\",\"size\":10,\"solidity\":0.2}},\"type\":\"histogram\"}],\"scattergl\":[{\"type\":\"scattergl\",\"marker\":{\"colorbar\":{\"outlinewidth\":0,\"ticks\":\"\"}}}],\"scatter3d\":[{\"type\":\"scatter3d\",\"line\":{\"colorbar\":{\"outlinewidth\":0,\"ticks\":\"\"}},\"marker\":{\"colorbar\":{\"outlinewidth\":0,\"ticks\":\"\"}}}],\"scattermapbox\":[{\"type\":\"scattermapbox\",\"marker\":{\"colorbar\":{\"outlinewidth\":0,\"ticks\":\"\"}}}],\"scatterternary\":[{\"type\":\"scatterternary\",\"marker\":{\"colorbar\":{\"outlinewidth\":0,\"ticks\":\"\"}}}],\"scattercarpet\":[{\"type\":\"scattercarpet\",\"marker\":{\"colorbar\":{\"outlinewidth\":0,\"ticks\":\"\"}}}],\"carpet\":[{\"aaxis\":{\"endlinecolor\":\"#2a3f5f\",\"gridcolor\":\"white\",\"linecolor\":\"white\",\"minorgridcolor\":\"white\",\"startlinecolor\":\"#2a3f5f\"},\"baxis\":{\"endlinecolor\":\"#2a3f5f\",\"gridcolor\":\"white\",\"linecolor\":\"white\",\"minorgridcolor\":\"white\",\"startlinecolor\":\"#2a3f5f\"},\"type\":\"carpet\"}],\"table\":[{\"cells\":{\"fill\":{\"color\":\"#EBF0F8\"},\"line\":{\"color\":\"white\"}},\"header\":{\"fill\":{\"color\":\"#C8D4E3\"},\"line\":{\"color\":\"white\"}},\"type\":\"table\"}],\"barpolar\":[{\"marker\":{\"line\":{\"color\":\"#E5ECF6\",\"width\":0.5},\"pattern\":{\"fillmode\":\"overlay\",\"size\":10,\"solidity\":0.2}},\"type\":\"barpolar\"}],\"pie\":[{\"automargin\":true,\"type\":\"pie\"}]},\"layout\":{\"autotypenumbers\":\"strict\",\"colorway\":[\"#636efa\",\"#EF553B\",\"#00cc96\",\"#ab63fa\",\"#FFA15A\",\"#19d3f3\",\"#FF6692\",\"#B6E880\",\"#FF97FF\",\"#FECB52\"],\"font\":{\"color\":\"#2a3f5f\"},\"hovermode\":\"closest\",\"hoverlabel\":{\"align\":\"left\"},\"paper_bgcolor\":\"white\",\"plot_bgcolor\":\"#E5ECF6\",\"polar\":{\"bgcolor\":\"#E5ECF6\",\"angularaxis\":{\"gridcolor\":\"white\",\"linecolor\":\"white\",\"ticks\":\"\"},\"radialaxis\":{\"gridcolor\":\"white\",\"linecolor\":\"white\",\"ticks\":\"\"}},\"ternary\":{\"bgcolor\":\"#E5ECF6\",\"aaxis\":{\"gridcolor\":\"white\",\"linecolor\":\"white\",\"ticks\":\"\"},\"baxis\":{\"gridcolor\":\"white\",\"linecolor\":\"white\",\"ticks\":\"\"},\"caxis\":{\"gridcolor\":\"white\",\"linecolor\":\"white\",\"ticks\":\"\"}},\"coloraxis\":{\"colorbar\":{\"outlinewidth\":0,\"ticks\":\"\"}},\"colorscale\":{\"sequential\":[[0.0,\"#0d0887\"],[0.1111111111111111,\"#46039f\"],[0.2222222222222222,\"#7201a8\"],[0.3333333333333333,\"#9c179e\"],[0.4444444444444444,\"#bd3786\"],[0.5555555555555556,\"#d8576b\"],[0.6666666666666666,\"#ed7953\"],[0.7777777777777778,\"#fb9f3a\"],[0.8888888888888888,\"#fdca26\"],[1.0,\"#f0f921\"]],\"sequentialminus\":[[0.0,\"#0d0887\"],[0.1111111111111111,\"#46039f\"],[0.2222222222222222,\"#7201a8\"],[0.3333333333333333,\"#9c179e\"],[0.4444444444444444,\"#bd3786\"],[0.5555555555555556,\"#d8576b\"],[0.6666666666666666,\"#ed7953\"],[0.7777777777777778,\"#fb9f3a\"],[0.8888888888888888,\"#fdca26\"],[1.0,\"#f0f921\"]],\"diverging\":[[0,\"#8e0152\"],[0.1,\"#c51b7d\"],[0.2,\"#de77ae\"],[0.3,\"#f1b6da\"],[0.4,\"#fde0ef\"],[0.5,\"#f7f7f7\"],[0.6,\"#e6f5d0\"],[0.7,\"#b8e186\"],[0.8,\"#7fbc41\"],[0.9,\"#4d9221\"],[1,\"#276419\"]]},\"xaxis\":{\"gridcolor\":\"white\",\"linecolor\":\"white\",\"ticks\":\"\",\"title\":{\"standoff\":15},\"zerolinecolor\":\"white\",\"automargin\":true,\"zerolinewidth\":2},\"yaxis\":{\"gridcolor\":\"white\",\"linecolor\":\"white\",\"ticks\":\"\",\"title\":{\"standoff\":15},\"zerolinecolor\":\"white\",\"automargin\":true,\"zerolinewidth\":2},\"scene\":{\"xaxis\":{\"backgroundcolor\":\"#E5ECF6\",\"gridcolor\":\"white\",\"linecolor\":\"white\",\"showbackground\":true,\"ticks\":\"\",\"zerolinecolor\":\"white\",\"gridwidth\":2},\"yaxis\":{\"backgroundcolor\":\"#E5ECF6\",\"gridcolor\":\"white\",\"linecolor\":\"white\",\"showbackground\":true,\"ticks\":\"\",\"zerolinecolor\":\"white\",\"gridwidth\":2},\"zaxis\":{\"backgroundcolor\":\"#E5ECF6\",\"gridcolor\":\"white\",\"linecolor\":\"white\",\"showbackground\":true,\"ticks\":\"\",\"zerolinecolor\":\"white\",\"gridwidth\":2}},\"shapedefaults\":{\"line\":{\"color\":\"#2a3f5f\"}},\"annotationdefaults\":{\"arrowcolor\":\"#2a3f5f\",\"arrowhead\":0,\"arrowwidth\":1},\"geo\":{\"bgcolor\":\"white\",\"landcolor\":\"#E5ECF6\",\"subunitcolor\":\"white\",\"showland\":true,\"showlakes\":true,\"lakecolor\":\"white\"},\"title\":{\"x\":0.05},\"mapbox\":{\"style\":\"light\"}}},\"xaxis\":{\"anchor\":\"y\",\"domain\":[0.0,1.0],\"title\":{\"text\":\"topic\"}},\"yaxis\":{\"anchor\":\"x\",\"domain\":[0.0,1.0],\"title\":{\"text\":\"desc_index\"}},\"legend\":{\"tracegroupgap\":0},\"margin\":{\"t\":60},\"barmode\":\"relative\"},                        {\"responsive\": true}                    ).then(function(){\n",
       "                            \n",
       "var gd = document.getElementById('9ad584dd-fffb-4355-bf54-0c0495413416');\n",
       "var x = new MutationObserver(function (mutations, observer) {{\n",
       "        var display = window.getComputedStyle(gd).display;\n",
       "        if (!display || display === 'none') {{\n",
       "            console.log([gd, 'removed!']);\n",
       "            Plotly.purge(gd);\n",
       "            observer.disconnect();\n",
       "        }}\n",
       "}});\n",
       "\n",
       "// Listen for the removal of the full notebook cells\n",
       "var notebookContainer = gd.closest('#notebook-container');\n",
       "if (notebookContainer) {{\n",
       "    x.observe(notebookContainer, {childList: true});\n",
       "}}\n",
       "\n",
       "// Listen for the clearing of the current output cell\n",
       "var outputEl = gd.closest('.output');\n",
       "if (outputEl) {{\n",
       "    x.observe(outputEl, {childList: true});\n",
       "}}\n",
       "\n",
       "                        })                };                });            </script>        </div>"
      ]
     },
     "metadata": {},
     "output_type": "display_data"
    }
   ],
   "source": [
    "import plotly.express as px\n",
    "\n",
    "pt = tscore_f.groupby(\"topic\").desc_index.count().reset_index()\n",
    "pt = pt.sort_values(by=\"desc_index\", ascending=False)\n",
    "\n",
    "t = px.bar(pt.query(\"desc_index >10\"), x=\"topic\", y=\"desc_index\")\n",
    "t.show()"
   ]
  },
  {
   "cell_type": "code",
   "execution_count": 26,
   "metadata": {
    "execution": {
     "iopub.execute_input": "2024-05-17T06:37:14.978861Z",
     "iopub.status.busy": "2024-05-17T06:37:14.978353Z",
     "iopub.status.idle": "2024-05-17T06:37:15.166692Z",
     "shell.execute_reply": "2024-05-17T06:37:15.164710Z",
     "shell.execute_reply.started": "2024-05-17T06:37:14.978861Z"
    },
    "tags": []
   },
   "outputs": [
    {
     "data": {
      "text/html": [
       "<div>\n",
       "<style scoped>\n",
       "    .dataframe tbody tr th:only-of-type {\n",
       "        vertical-align: middle;\n",
       "    }\n",
       "\n",
       "    .dataframe tbody tr th {\n",
       "        vertical-align: top;\n",
       "    }\n",
       "\n",
       "    .dataframe thead th {\n",
       "        text-align: right;\n",
       "    }\n",
       "</style>\n",
       "<table border=\"1\" class=\"dataframe\">\n",
       "  <thead>\n",
       "    <tr style=\"text-align: right;\">\n",
       "      <th></th>\n",
       "      <th>id</th>\n",
       "      <th>relevance_score</th>\n",
       "      <th>confidence_score</th>\n",
       "      <th>freebase_types</th>\n",
       "      <th>desc_index</th>\n",
       "    </tr>\n",
       "  </thead>\n",
       "  <tbody>\n",
       "    <tr>\n",
       "      <th>0</th>\n",
       "      <td>Gebäudereiniger</td>\n",
       "      <td>0.4398</td>\n",
       "      <td>3.369</td>\n",
       "      <td>['/organization/organization_sector', '/book/b...</td>\n",
       "      <td>0</td>\n",
       "    </tr>\n",
       "    <tr>\n",
       "      <th>1</th>\n",
       "      <td>Reinigung (Instandhaltung)</td>\n",
       "      <td>0.3763</td>\n",
       "      <td>1.031</td>\n",
       "      <td>['/film/film_subject']</td>\n",
       "      <td>0</td>\n",
       "    </tr>\n",
       "    <tr>\n",
       "      <th>2</th>\n",
       "      <td>Führerschein</td>\n",
       "      <td>0.2773</td>\n",
       "      <td>2.368</td>\n",
       "      <td>[]</td>\n",
       "      <td>0</td>\n",
       "    </tr>\n",
       "    <tr>\n",
       "      <th>3</th>\n",
       "      <td>Hygiene</td>\n",
       "      <td>0.2627</td>\n",
       "      <td>3.086</td>\n",
       "      <td>['/business/product_category', '/medicine/medi...</td>\n",
       "      <td>0</td>\n",
       "    </tr>\n",
       "    <tr>\n",
       "      <th>4</th>\n",
       "      <td>Sanitärtechnik</td>\n",
       "      <td>0.2361</td>\n",
       "      <td>5.031</td>\n",
       "      <td>['/organization/organization_sector', '/busine...</td>\n",
       "      <td>0</td>\n",
       "    </tr>\n",
       "    <tr>\n",
       "      <th>...</th>\n",
       "      <td>...</td>\n",
       "      <td>...</td>\n",
       "      <td>...</td>\n",
       "      <td>...</td>\n",
       "      <td>...</td>\n",
       "    </tr>\n",
       "    <tr>\n",
       "      <th>11368</th>\n",
       "      <td>Kunsttherapie</td>\n",
       "      <td>0.3407</td>\n",
       "      <td>4.276</td>\n",
       "      <td>['/business/industry']</td>\n",
       "      <td>2286</td>\n",
       "    </tr>\n",
       "    <tr>\n",
       "      <th>11369</th>\n",
       "      <td>Gesprächspsychotherapie</td>\n",
       "      <td>0.2428</td>\n",
       "      <td>2.818</td>\n",
       "      <td>[]</td>\n",
       "      <td>2286</td>\n",
       "    </tr>\n",
       "    <tr>\n",
       "      <th>11370</th>\n",
       "      <td>Gemüse</td>\n",
       "      <td>0.2382</td>\n",
       "      <td>1.489</td>\n",
       "      <td>['/book/book_subject', '/visual_art/art_subjec...</td>\n",
       "      <td>2286</td>\n",
       "    </tr>\n",
       "    <tr>\n",
       "      <th>11371</th>\n",
       "      <td>Lebensqualität</td>\n",
       "      <td>0.2285</td>\n",
       "      <td>2.109</td>\n",
       "      <td>['/tv/tv_genre', '/media_common/media_genre']</td>\n",
       "      <td>2286</td>\n",
       "    </tr>\n",
       "    <tr>\n",
       "      <th>11372</th>\n",
       "      <td>Gartenbau</td>\n",
       "      <td>0.2041</td>\n",
       "      <td>3.548</td>\n",
       "      <td>['/education/field_of_study']</td>\n",
       "      <td>2286</td>\n",
       "    </tr>\n",
       "  </tbody>\n",
       "</table>\n",
       "<p>7119 rows × 5 columns</p>\n",
       "</div>"
      ],
      "text/plain": [
       "                               id  relevance_score  confidence_score  \\\n",
       "0                 Gebäudereiniger           0.4398             3.369   \n",
       "1      Reinigung (Instandhaltung)           0.3763             1.031   \n",
       "2                    Führerschein           0.2773             2.368   \n",
       "3                         Hygiene           0.2627             3.086   \n",
       "4                  Sanitärtechnik           0.2361             5.031   \n",
       "...                           ...              ...               ...   \n",
       "11368               Kunsttherapie           0.3407             4.276   \n",
       "11369     Gesprächspsychotherapie           0.2428             2.818   \n",
       "11370                      Gemüse           0.2382             1.489   \n",
       "11371              Lebensqualität           0.2285             2.109   \n",
       "11372                   Gartenbau           0.2041             3.548   \n",
       "\n",
       "                                          freebase_types  desc_index  \n",
       "0      ['/organization/organization_sector', '/book/b...           0  \n",
       "1                                 ['/film/film_subject']           0  \n",
       "2                                                     []           0  \n",
       "3      ['/business/product_category', '/medicine/medi...           0  \n",
       "4      ['/organization/organization_sector', '/busine...           0  \n",
       "...                                                  ...         ...  \n",
       "11368                             ['/business/industry']        2286  \n",
       "11369                                                 []        2286  \n",
       "11370  ['/book/book_subject', '/visual_art/art_subjec...        2286  \n",
       "11371      ['/tv/tv_genre', '/media_common/media_genre']        2286  \n",
       "11372                      ['/education/field_of_study']        2286  \n",
       "\n",
       "[7119 rows x 5 columns]"
      ]
     },
     "execution_count": 26,
     "metadata": {},
     "output_type": "execute_result"
    }
   ],
   "source": [
    "# Top 5 most relevant entities \n",
    "escore_f = escore.sort_values([\"desc_index\", \"relevance_score\"], ascending=[True, False])\n",
    "escore_f = escore_f.groupby(\"desc_index\").head(5)\n",
    "escore_f"
   ]
  },
  {
   "cell_type": "code",
   "execution_count": 27,
   "metadata": {
    "execution": {
     "iopub.execute_input": "2024-05-17T06:37:50.491331Z",
     "iopub.status.busy": "2024-05-17T06:37:50.491331Z",
     "iopub.status.idle": "2024-05-17T06:37:54.611856Z",
     "shell.execute_reply": "2024-05-17T06:37:54.610405Z",
     "shell.execute_reply.started": "2024-05-17T06:37:50.491331Z"
    }
   },
   "outputs": [
    {
     "data": {
      "application/vnd.plotly.v1+json": {
       "config": {
        "plotlyServerURL": "https://plot.ly"
       },
       "data": [
        {
         "alignmentgroup": "True",
         "hovertemplate": "id=%{x}<br>desc_index=%{y}<extra></extra>",
         "legendgroup": "",
         "marker": {
          "color": "#636efa",
          "pattern": {
           "shape": ""
          }
         },
         "name": "",
         "offsetgroup": "",
         "orientation": "v",
         "showlegend": false,
         "textposition": "auto",
         "type": "bar",
         "x": [
          "Berlin",
          "Behinderung",
          "Kindertagesstätte",
          "Psychische Störung",
          "Wohngemeinschaft",
          "Lebensqualität",
          "Selbsthilfegruppe",
          "Abhängigkeit von psychoaktiven Substanzen",
          "Krankheit",
          "Kiez",
          "Website",
          "Bildung",
          "Kultur",
          "Familienzentrum",
          "Teilhabe (Behinderte Menschen)",
          "Abhängigkeit (Medizin)",
          "Demenz",
          "Betreutes Wohnen",
          "Pflegende Angehörige",
          "Pflegebedürftigkeit",
          "Erzieher",
          "Gesundheits- und Krankenpfleger",
          "Berlin-Neukölln",
          "Integration von Zugewanderten",
          "Barrierefreiheit",
          "Gesundheit",
          "Soziale Arbeit",
          "Deutschland",
          "Freizeit",
          "Kaffee",
          "Eingliederungshilfe",
          "Ehrenamt",
          "Wohnungslosigkeit",
          "Achtes Buch Sozialgesetzbuch",
          "Kindergarten",
          "Rehabilitation",
          "Zwölftes Buch Sozialgesetzbuch",
          "Sozialberatung",
          "Werkstatt für behinderte Menschen",
          "Selbstbestimmtes Leben",
          "Grundpflege",
          "Behandlungspflege",
          "Therapie",
          "Pädagogik",
          "Kinder- und Jugendfreizeiteinrichtung",
          "Gemeinnützigkeit",
          "Migrationshintergrund",
          "Queer",
          "Berlin-Prenzlauer Berg",
          "Hilfen zur Erziehung",
          "Berlin-Pankow",
          "Geistige Behinderung",
          "Berlin-Kreuzberg",
          "Sozialstation",
          "Heilerziehungspflege",
          "Partizipation",
          "Jugendsozialarbeit",
          "Kinder- und Jugendhilfe",
          "Jugendamt",
          "Ergotherapie",
          "Herzlich willkommen",
          "Physiotherapie",
          "6",
          "Schwangerschaft",
          "Kommunikation",
          "Theater",
          "Droge",
          "Brandenburg",
          "Bezirk Treptow-Köpenick",
          "Psychotherapie",
          "Berufsorientierung",
          "Pflegeversicherung (Deutschland)",
          "Essen",
          "Angst",
          "Depression",
          "Lernbehinderung",
          "Inklusive Pädagogik",
          "Alkoholkrankheit",
          "Altenpflege",
          "2",
          "Sprachförderung",
          "Gemeinschaft",
          "Lernen",
          "HIV",
          "Pflegeheim",
          "Tee",
          "1",
          "Verein",
          "Musik",
          "Psychosoziale Beratung",
          "Freier Träger",
          "Persische Sprache",
          "E-Mail",
          "Soziale Inklusion",
          "Neuntes Buch Sozialgesetzbuch",
          "Erziehung",
          "Bürgerschaftliches Engagement",
          "Diskriminierung",
          "Alleinerziehender",
          "AIDS",
          "Autonomie",
          "0",
          "Jugendarbeit",
          "Mehrgenerationenhaus",
          "Gemeinnützige GmbH",
          "Berlin-Köpenick",
          "Tagespflege",
          "Bezirk Pankow",
          "Arbeitsmarkt",
          "Selbstversorgung",
          "30",
          "Selbstwert",
          "Beratungsstelle",
          "Betreuung (Recht)",
          "Coaching",
          "Berlin-Reinickendorf",
          "Arzt",
          "Krankenhaus",
          "Hospiz",
          "Bezirk Marzahn-Hellersdorf",
          "Psychiatrie",
          "Jobcenter",
          "Familienhilfe",
          "Sterbebegleitung",
          "Assistenz (Behindertenhilfe)",
          "Hilfe zur Selbsthilfe",
          "BEW"
         ],
         "xaxis": "x",
         "y": [
          226,
          137,
          125,
          98,
          63,
          60,
          50,
          48,
          46,
          45,
          44,
          43,
          43,
          41,
          40,
          39,
          37,
          34,
          34,
          33,
          33,
          33,
          32,
          32,
          30,
          30,
          29,
          29,
          28,
          28,
          27,
          27,
          26,
          26,
          26,
          26,
          25,
          25,
          25,
          24,
          23,
          23,
          22,
          22,
          22,
          22,
          22,
          21,
          21,
          21,
          21,
          21,
          21,
          21,
          20,
          20,
          20,
          20,
          20,
          20,
          19,
          19,
          18,
          18,
          18,
          18,
          18,
          18,
          18,
          17,
          17,
          17,
          17,
          17,
          17,
          17,
          16,
          16,
          16,
          16,
          15,
          15,
          15,
          15,
          15,
          15,
          15,
          15,
          15,
          15,
          14,
          14,
          14,
          14,
          14,
          14,
          14,
          13,
          13,
          13,
          13,
          13,
          13,
          13,
          12,
          12,
          12,
          12,
          12,
          12,
          12,
          12,
          12,
          12,
          11,
          11,
          11,
          11,
          11,
          11,
          11,
          11,
          11,
          11,
          11,
          11,
          11
         ],
         "yaxis": "y"
        }
       ],
       "layout": {
        "autosize": true,
        "barmode": "relative",
        "legend": {
         "tracegroupgap": 0
        },
        "margin": {
         "t": 60
        },
        "template": {
         "data": {
          "bar": [
           {
            "error_x": {
             "color": "#2a3f5f"
            },
            "error_y": {
             "color": "#2a3f5f"
            },
            "marker": {
             "line": {
              "color": "#E5ECF6",
              "width": 0.5
             },
             "pattern": {
              "fillmode": "overlay",
              "size": 10,
              "solidity": 0.2
             }
            },
            "type": "bar"
           }
          ],
          "barpolar": [
           {
            "marker": {
             "line": {
              "color": "#E5ECF6",
              "width": 0.5
             },
             "pattern": {
              "fillmode": "overlay",
              "size": 10,
              "solidity": 0.2
             }
            },
            "type": "barpolar"
           }
          ],
          "carpet": [
           {
            "aaxis": {
             "endlinecolor": "#2a3f5f",
             "gridcolor": "white",
             "linecolor": "white",
             "minorgridcolor": "white",
             "startlinecolor": "#2a3f5f"
            },
            "baxis": {
             "endlinecolor": "#2a3f5f",
             "gridcolor": "white",
             "linecolor": "white",
             "minorgridcolor": "white",
             "startlinecolor": "#2a3f5f"
            },
            "type": "carpet"
           }
          ],
          "choropleth": [
           {
            "colorbar": {
             "outlinewidth": 0,
             "ticks": ""
            },
            "type": "choropleth"
           }
          ],
          "contour": [
           {
            "colorbar": {
             "outlinewidth": 0,
             "ticks": ""
            },
            "colorscale": [
             [
              0,
              "#0d0887"
             ],
             [
              0.1111111111111111,
              "#46039f"
             ],
             [
              0.2222222222222222,
              "#7201a8"
             ],
             [
              0.3333333333333333,
              "#9c179e"
             ],
             [
              0.4444444444444444,
              "#bd3786"
             ],
             [
              0.5555555555555556,
              "#d8576b"
             ],
             [
              0.6666666666666666,
              "#ed7953"
             ],
             [
              0.7777777777777778,
              "#fb9f3a"
             ],
             [
              0.8888888888888888,
              "#fdca26"
             ],
             [
              1,
              "#f0f921"
             ]
            ],
            "type": "contour"
           }
          ],
          "contourcarpet": [
           {
            "colorbar": {
             "outlinewidth": 0,
             "ticks": ""
            },
            "type": "contourcarpet"
           }
          ],
          "heatmap": [
           {
            "colorbar": {
             "outlinewidth": 0,
             "ticks": ""
            },
            "colorscale": [
             [
              0,
              "#0d0887"
             ],
             [
              0.1111111111111111,
              "#46039f"
             ],
             [
              0.2222222222222222,
              "#7201a8"
             ],
             [
              0.3333333333333333,
              "#9c179e"
             ],
             [
              0.4444444444444444,
              "#bd3786"
             ],
             [
              0.5555555555555556,
              "#d8576b"
             ],
             [
              0.6666666666666666,
              "#ed7953"
             ],
             [
              0.7777777777777778,
              "#fb9f3a"
             ],
             [
              0.8888888888888888,
              "#fdca26"
             ],
             [
              1,
              "#f0f921"
             ]
            ],
            "type": "heatmap"
           }
          ],
          "heatmapgl": [
           {
            "colorbar": {
             "outlinewidth": 0,
             "ticks": ""
            },
            "colorscale": [
             [
              0,
              "#0d0887"
             ],
             [
              0.1111111111111111,
              "#46039f"
             ],
             [
              0.2222222222222222,
              "#7201a8"
             ],
             [
              0.3333333333333333,
              "#9c179e"
             ],
             [
              0.4444444444444444,
              "#bd3786"
             ],
             [
              0.5555555555555556,
              "#d8576b"
             ],
             [
              0.6666666666666666,
              "#ed7953"
             ],
             [
              0.7777777777777778,
              "#fb9f3a"
             ],
             [
              0.8888888888888888,
              "#fdca26"
             ],
             [
              1,
              "#f0f921"
             ]
            ],
            "type": "heatmapgl"
           }
          ],
          "histogram": [
           {
            "marker": {
             "pattern": {
              "fillmode": "overlay",
              "size": 10,
              "solidity": 0.2
             }
            },
            "type": "histogram"
           }
          ],
          "histogram2d": [
           {
            "colorbar": {
             "outlinewidth": 0,
             "ticks": ""
            },
            "colorscale": [
             [
              0,
              "#0d0887"
             ],
             [
              0.1111111111111111,
              "#46039f"
             ],
             [
              0.2222222222222222,
              "#7201a8"
             ],
             [
              0.3333333333333333,
              "#9c179e"
             ],
             [
              0.4444444444444444,
              "#bd3786"
             ],
             [
              0.5555555555555556,
              "#d8576b"
             ],
             [
              0.6666666666666666,
              "#ed7953"
             ],
             [
              0.7777777777777778,
              "#fb9f3a"
             ],
             [
              0.8888888888888888,
              "#fdca26"
             ],
             [
              1,
              "#f0f921"
             ]
            ],
            "type": "histogram2d"
           }
          ],
          "histogram2dcontour": [
           {
            "colorbar": {
             "outlinewidth": 0,
             "ticks": ""
            },
            "colorscale": [
             [
              0,
              "#0d0887"
             ],
             [
              0.1111111111111111,
              "#46039f"
             ],
             [
              0.2222222222222222,
              "#7201a8"
             ],
             [
              0.3333333333333333,
              "#9c179e"
             ],
             [
              0.4444444444444444,
              "#bd3786"
             ],
             [
              0.5555555555555556,
              "#d8576b"
             ],
             [
              0.6666666666666666,
              "#ed7953"
             ],
             [
              0.7777777777777778,
              "#fb9f3a"
             ],
             [
              0.8888888888888888,
              "#fdca26"
             ],
             [
              1,
              "#f0f921"
             ]
            ],
            "type": "histogram2dcontour"
           }
          ],
          "mesh3d": [
           {
            "colorbar": {
             "outlinewidth": 0,
             "ticks": ""
            },
            "type": "mesh3d"
           }
          ],
          "parcoords": [
           {
            "line": {
             "colorbar": {
              "outlinewidth": 0,
              "ticks": ""
             }
            },
            "type": "parcoords"
           }
          ],
          "pie": [
           {
            "automargin": true,
            "type": "pie"
           }
          ],
          "scatter": [
           {
            "fillpattern": {
             "fillmode": "overlay",
             "size": 10,
             "solidity": 0.2
            },
            "type": "scatter"
           }
          ],
          "scatter3d": [
           {
            "line": {
             "colorbar": {
              "outlinewidth": 0,
              "ticks": ""
             }
            },
            "marker": {
             "colorbar": {
              "outlinewidth": 0,
              "ticks": ""
             }
            },
            "type": "scatter3d"
           }
          ],
          "scattercarpet": [
           {
            "marker": {
             "colorbar": {
              "outlinewidth": 0,
              "ticks": ""
             }
            },
            "type": "scattercarpet"
           }
          ],
          "scattergeo": [
           {
            "marker": {
             "colorbar": {
              "outlinewidth": 0,
              "ticks": ""
             }
            },
            "type": "scattergeo"
           }
          ],
          "scattergl": [
           {
            "marker": {
             "colorbar": {
              "outlinewidth": 0,
              "ticks": ""
             }
            },
            "type": "scattergl"
           }
          ],
          "scattermapbox": [
           {
            "marker": {
             "colorbar": {
              "outlinewidth": 0,
              "ticks": ""
             }
            },
            "type": "scattermapbox"
           }
          ],
          "scatterpolar": [
           {
            "marker": {
             "colorbar": {
              "outlinewidth": 0,
              "ticks": ""
             }
            },
            "type": "scatterpolar"
           }
          ],
          "scatterpolargl": [
           {
            "marker": {
             "colorbar": {
              "outlinewidth": 0,
              "ticks": ""
             }
            },
            "type": "scatterpolargl"
           }
          ],
          "scatterternary": [
           {
            "marker": {
             "colorbar": {
              "outlinewidth": 0,
              "ticks": ""
             }
            },
            "type": "scatterternary"
           }
          ],
          "surface": [
           {
            "colorbar": {
             "outlinewidth": 0,
             "ticks": ""
            },
            "colorscale": [
             [
              0,
              "#0d0887"
             ],
             [
              0.1111111111111111,
              "#46039f"
             ],
             [
              0.2222222222222222,
              "#7201a8"
             ],
             [
              0.3333333333333333,
              "#9c179e"
             ],
             [
              0.4444444444444444,
              "#bd3786"
             ],
             [
              0.5555555555555556,
              "#d8576b"
             ],
             [
              0.6666666666666666,
              "#ed7953"
             ],
             [
              0.7777777777777778,
              "#fb9f3a"
             ],
             [
              0.8888888888888888,
              "#fdca26"
             ],
             [
              1,
              "#f0f921"
             ]
            ],
            "type": "surface"
           }
          ],
          "table": [
           {
            "cells": {
             "fill": {
              "color": "#EBF0F8"
             },
             "line": {
              "color": "white"
             }
            },
            "header": {
             "fill": {
              "color": "#C8D4E3"
             },
             "line": {
              "color": "white"
             }
            },
            "type": "table"
           }
          ]
         },
         "layout": {
          "annotationdefaults": {
           "arrowcolor": "#2a3f5f",
           "arrowhead": 0,
           "arrowwidth": 1
          },
          "autotypenumbers": "strict",
          "coloraxis": {
           "colorbar": {
            "outlinewidth": 0,
            "ticks": ""
           }
          },
          "colorscale": {
           "diverging": [
            [
             0,
             "#8e0152"
            ],
            [
             0.1,
             "#c51b7d"
            ],
            [
             0.2,
             "#de77ae"
            ],
            [
             0.3,
             "#f1b6da"
            ],
            [
             0.4,
             "#fde0ef"
            ],
            [
             0.5,
             "#f7f7f7"
            ],
            [
             0.6,
             "#e6f5d0"
            ],
            [
             0.7,
             "#b8e186"
            ],
            [
             0.8,
             "#7fbc41"
            ],
            [
             0.9,
             "#4d9221"
            ],
            [
             1,
             "#276419"
            ]
           ],
           "sequential": [
            [
             0,
             "#0d0887"
            ],
            [
             0.1111111111111111,
             "#46039f"
            ],
            [
             0.2222222222222222,
             "#7201a8"
            ],
            [
             0.3333333333333333,
             "#9c179e"
            ],
            [
             0.4444444444444444,
             "#bd3786"
            ],
            [
             0.5555555555555556,
             "#d8576b"
            ],
            [
             0.6666666666666666,
             "#ed7953"
            ],
            [
             0.7777777777777778,
             "#fb9f3a"
            ],
            [
             0.8888888888888888,
             "#fdca26"
            ],
            [
             1,
             "#f0f921"
            ]
           ],
           "sequentialminus": [
            [
             0,
             "#0d0887"
            ],
            [
             0.1111111111111111,
             "#46039f"
            ],
            [
             0.2222222222222222,
             "#7201a8"
            ],
            [
             0.3333333333333333,
             "#9c179e"
            ],
            [
             0.4444444444444444,
             "#bd3786"
            ],
            [
             0.5555555555555556,
             "#d8576b"
            ],
            [
             0.6666666666666666,
             "#ed7953"
            ],
            [
             0.7777777777777778,
             "#fb9f3a"
            ],
            [
             0.8888888888888888,
             "#fdca26"
            ],
            [
             1,
             "#f0f921"
            ]
           ]
          },
          "colorway": [
           "#636efa",
           "#EF553B",
           "#00cc96",
           "#ab63fa",
           "#FFA15A",
           "#19d3f3",
           "#FF6692",
           "#B6E880",
           "#FF97FF",
           "#FECB52"
          ],
          "font": {
           "color": "#2a3f5f"
          },
          "geo": {
           "bgcolor": "white",
           "lakecolor": "white",
           "landcolor": "#E5ECF6",
           "showlakes": true,
           "showland": true,
           "subunitcolor": "white"
          },
          "hoverlabel": {
           "align": "left"
          },
          "hovermode": "closest",
          "mapbox": {
           "style": "light"
          },
          "paper_bgcolor": "white",
          "plot_bgcolor": "#E5ECF6",
          "polar": {
           "angularaxis": {
            "gridcolor": "white",
            "linecolor": "white",
            "ticks": ""
           },
           "bgcolor": "#E5ECF6",
           "radialaxis": {
            "gridcolor": "white",
            "linecolor": "white",
            "ticks": ""
           }
          },
          "scene": {
           "xaxis": {
            "backgroundcolor": "#E5ECF6",
            "gridcolor": "white",
            "gridwidth": 2,
            "linecolor": "white",
            "showbackground": true,
            "ticks": "",
            "zerolinecolor": "white"
           },
           "yaxis": {
            "backgroundcolor": "#E5ECF6",
            "gridcolor": "white",
            "gridwidth": 2,
            "linecolor": "white",
            "showbackground": true,
            "ticks": "",
            "zerolinecolor": "white"
           },
           "zaxis": {
            "backgroundcolor": "#E5ECF6",
            "gridcolor": "white",
            "gridwidth": 2,
            "linecolor": "white",
            "showbackground": true,
            "ticks": "",
            "zerolinecolor": "white"
           }
          },
          "shapedefaults": {
           "line": {
            "color": "#2a3f5f"
           }
          },
          "ternary": {
           "aaxis": {
            "gridcolor": "white",
            "linecolor": "white",
            "ticks": ""
           },
           "baxis": {
            "gridcolor": "white",
            "linecolor": "white",
            "ticks": ""
           },
           "bgcolor": "#E5ECF6",
           "caxis": {
            "gridcolor": "white",
            "linecolor": "white",
            "ticks": ""
           }
          },
          "title": {
           "x": 0.05
          },
          "xaxis": {
           "automargin": true,
           "gridcolor": "white",
           "linecolor": "white",
           "ticks": "",
           "title": {
            "standoff": 15
           },
           "zerolinecolor": "white",
           "zerolinewidth": 2
          },
          "yaxis": {
           "automargin": true,
           "gridcolor": "white",
           "linecolor": "white",
           "ticks": "",
           "title": {
            "standoff": 15
           },
           "zerolinecolor": "white",
           "zerolinewidth": 2
          }
         }
        },
        "xaxis": {
         "anchor": "y",
         "autorange": true,
         "domain": [
          0,
          1
         ],
         "range": [
          -0.5,
          126.5
         ],
         "title": {
          "text": "id"
         },
         "type": "category"
        },
        "yaxis": {
         "anchor": "x",
         "autorange": true,
         "domain": [
          0,
          1
         ],
         "range": [
          0,
          237.89473684210526
         ],
         "title": {
          "text": "desc_index"
         },
         "type": "linear"
        }
       }
      },
      "image/png": "[encoded data removed]",
      "text/html": [
       "<div>                            <div id=\"97e85a8b-d8e6-4c0c-85c7-201fafcfbf59\" class=\"plotly-graph-div\" style=\"height:525px; width:100%;\"></div>            <script type=\"text/javascript\">                require([\"plotly\"], function(Plotly) {                    window.PLOTLYENV=window.PLOTLYENV || {};                                    if (document.getElementById(\"97e85a8b-d8e6-4c0c-85c7-201fafcfbf59\")) {                    Plotly.newPlot(                        \"97e85a8b-d8e6-4c0c-85c7-201fafcfbf59\",                        [{\"alignmentgroup\":\"True\",\"hovertemplate\":\"id=%{x}\\u003cbr\\u003edesc_index=%{y}\\u003cextra\\u003e\\u003c\\u002fextra\\u003e\",\"legendgroup\":\"\",\"marker\":{\"color\":\"#636efa\",\"pattern\":{\"shape\":\"\"}},\"name\":\"\",\"offsetgroup\":\"\",\"orientation\":\"v\",\"showlegend\":false,\"textposition\":\"auto\",\"x\":[\"Berlin\",\"Behinderung\",\"Kindertagesst\\u00e4tte\",\"Psychische St\\u00f6rung\",\"Wohngemeinschaft\",\"Lebensqualit\\u00e4t\",\"Selbsthilfegruppe\",\"Abh\\u00e4ngigkeit von psychoaktiven Substanzen\",\"Krankheit\",\"Kiez\",\"Website\",\"Bildung\",\"Kultur\",\"Familienzentrum\",\"Teilhabe (Behinderte Menschen)\",\"Abh\\u00e4ngigkeit (Medizin)\",\"Demenz\",\"Betreutes Wohnen\",\"Pflegende Angeh\\u00f6rige\",\"Pflegebed\\u00fcrftigkeit\",\"Erzieher\",\"Gesundheits- und Krankenpfleger\",\"Berlin-Neuk\\u00f6lln\",\"Integration von Zugewanderten\",\"Barrierefreiheit\",\"Gesundheit\",\"Soziale Arbeit\",\"Deutschland\",\"Freizeit\",\"Kaffee\",\"Eingliederungshilfe\",\"Ehrenamt\",\"Wohnungslosigkeit\",\"Achtes Buch Sozialgesetzbuch\",\"Kindergarten\",\"Rehabilitation\",\"Zw\\u00f6lftes Buch Sozialgesetzbuch\",\"Sozialberatung\",\"Werkstatt f\\u00fcr behinderte Menschen\",\"Selbstbestimmtes Leben\",\"Grundpflege\",\"Behandlungspflege\",\"Therapie\",\"P\\u00e4dagogik\",\"Kinder- und Jugendfreizeiteinrichtung\",\"Gemeinn\\u00fctzigkeit\",\"Migrationshintergrund\",\"Queer\",\"Berlin-Prenzlauer Berg\",\"Hilfen zur Erziehung\",\"Berlin-Pankow\",\"Geistige Behinderung\",\"Berlin-Kreuzberg\",\"Sozialstation\",\"Heilerziehungspflege\",\"Partizipation\",\"Jugendsozialarbeit\",\"Kinder- und Jugendhilfe\",\"Jugendamt\",\"Ergotherapie\",\"Herzlich willkommen\",\"Physiotherapie\",\"6\",\"Schwangerschaft\",\"Kommunikation\",\"Theater\",\"Droge\",\"Brandenburg\",\"Bezirk Treptow-K\\u00f6penick\",\"Psychotherapie\",\"Berufsorientierung\",\"Pflegeversicherung (Deutschland)\",\"Essen\",\"Angst\",\"Depression\",\"Lernbehinderung\",\"Inklusive P\\u00e4dagogik\",\"Alkoholkrankheit\",\"Altenpflege\",\"2\",\"Sprachf\\u00f6rderung\",\"Gemeinschaft\",\"Lernen\",\"HIV\",\"Pflegeheim\",\"Tee\",\"1\",\"Verein\",\"Musik\",\"Psychosoziale Beratung\",\"Freier Tr\\u00e4ger\",\"Persische Sprache\",\"E-Mail\",\"Soziale Inklusion\",\"Neuntes Buch Sozialgesetzbuch\",\"Erziehung\",\"B\\u00fcrgerschaftliches Engagement\",\"Diskriminierung\",\"Alleinerziehender\",\"AIDS\",\"Autonomie\",\"0\",\"Jugendarbeit\",\"Mehrgenerationenhaus\",\"Gemeinn\\u00fctzige GmbH\",\"Berlin-K\\u00f6penick\",\"Tagespflege\",\"Bezirk Pankow\",\"Arbeitsmarkt\",\"Selbstversorgung\",\"30\",\"Selbstwert\",\"Beratungsstelle\",\"Betreuung (Recht)\",\"Coaching\",\"Berlin-Reinickendorf\",\"Arzt\",\"Krankenhaus\",\"Hospiz\",\"Bezirk Marzahn-Hellersdorf\",\"Psychiatrie\",\"Jobcenter\",\"Familienhilfe\",\"Sterbebegleitung\",\"Assistenz (Behindertenhilfe)\",\"Hilfe zur Selbsthilfe\",\"BEW\"],\"xaxis\":\"x\",\"y\":[226,137,125,98,63,60,50,48,46,45,44,43,43,41,40,39,37,34,34,33,33,33,32,32,30,30,29,29,28,28,27,27,26,26,26,26,25,25,25,24,23,23,22,22,22,22,22,21,21,21,21,21,21,21,20,20,20,20,20,20,19,19,18,18,18,18,18,18,18,17,17,17,17,17,17,17,16,16,16,16,15,15,15,15,15,15,15,15,15,15,14,14,14,14,14,14,14,13,13,13,13,13,13,13,12,12,12,12,12,12,12,12,12,12,11,11,11,11,11,11,11,11,11,11,11,11,11],\"yaxis\":\"y\",\"type\":\"bar\"}],                        {\"template\":{\"data\":{\"histogram2dcontour\":[{\"type\":\"histogram2dcontour\",\"colorbar\":{\"outlinewidth\":0,\"ticks\":\"\"},\"colorscale\":[[0.0,\"#0d0887\"],[0.1111111111111111,\"#46039f\"],[0.2222222222222222,\"#7201a8\"],[0.3333333333333333,\"#9c179e\"],[0.4444444444444444,\"#bd3786\"],[0.5555555555555556,\"#d8576b\"],[0.6666666666666666,\"#ed7953\"],[0.7777777777777778,\"#fb9f3a\"],[0.8888888888888888,\"#fdca26\"],[1.0,\"#f0f921\"]]}],\"choropleth\":[{\"type\":\"choropleth\",\"colorbar\":{\"outlinewidth\":0,\"ticks\":\"\"}}],\"histogram2d\":[{\"type\":\"histogram2d\",\"colorbar\":{\"outlinewidth\":0,\"ticks\":\"\"},\"colorscale\":[[0.0,\"#0d0887\"],[0.1111111111111111,\"#46039f\"],[0.2222222222222222,\"#7201a8\"],[0.3333333333333333,\"#9c179e\"],[0.4444444444444444,\"#bd3786\"],[0.5555555555555556,\"#d8576b\"],[0.6666666666666666,\"#ed7953\"],[0.7777777777777778,\"#fb9f3a\"],[0.8888888888888888,\"#fdca26\"],[1.0,\"#f0f921\"]]}],\"heatmap\":[{\"type\":\"heatmap\",\"colorbar\":{\"outlinewidth\":0,\"ticks\":\"\"},\"colorscale\":[[0.0,\"#0d0887\"],[0.1111111111111111,\"#46039f\"],[0.2222222222222222,\"#7201a8\"],[0.3333333333333333,\"#9c179e\"],[0.4444444444444444,\"#bd3786\"],[0.5555555555555556,\"#d8576b\"],[0.6666666666666666,\"#ed7953\"],[0.7777777777777778,\"#fb9f3a\"],[0.8888888888888888,\"#fdca26\"],[1.0,\"#f0f921\"]]}],\"heatmapgl\":[{\"type\":\"heatmapgl\",\"colorbar\":{\"outlinewidth\":0,\"ticks\":\"\"},\"colorscale\":[[0.0,\"#0d0887\"],[0.1111111111111111,\"#46039f\"],[0.2222222222222222,\"#7201a8\"],[0.3333333333333333,\"#9c179e\"],[0.4444444444444444,\"#bd3786\"],[0.5555555555555556,\"#d8576b\"],[0.6666666666666666,\"#ed7953\"],[0.7777777777777778,\"#fb9f3a\"],[0.8888888888888888,\"#fdca26\"],[1.0,\"#f0f921\"]]}],\"contourcarpet\":[{\"type\":\"contourcarpet\",\"colorbar\":{\"outlinewidth\":0,\"ticks\":\"\"}}],\"contour\":[{\"type\":\"contour\",\"colorbar\":{\"outlinewidth\":0,\"ticks\":\"\"},\"colorscale\":[[0.0,\"#0d0887\"],[0.1111111111111111,\"#46039f\"],[0.2222222222222222,\"#7201a8\"],[0.3333333333333333,\"#9c179e\"],[0.4444444444444444,\"#bd3786\"],[0.5555555555555556,\"#d8576b\"],[0.6666666666666666,\"#ed7953\"],[0.7777777777777778,\"#fb9f3a\"],[0.8888888888888888,\"#fdca26\"],[1.0,\"#f0f921\"]]}],\"surface\":[{\"type\":\"surface\",\"colorbar\":{\"outlinewidth\":0,\"ticks\":\"\"},\"colorscale\":[[0.0,\"#0d0887\"],[0.1111111111111111,\"#46039f\"],[0.2222222222222222,\"#7201a8\"],[0.3333333333333333,\"#9c179e\"],[0.4444444444444444,\"#bd3786\"],[0.5555555555555556,\"#d8576b\"],[0.6666666666666666,\"#ed7953\"],[0.7777777777777778,\"#fb9f3a\"],[0.8888888888888888,\"#fdca26\"],[1.0,\"#f0f921\"]]}],\"mesh3d\":[{\"type\":\"mesh3d\",\"colorbar\":{\"outlinewidth\":0,\"ticks\":\"\"}}],\"scatter\":[{\"fillpattern\":{\"fillmode\":\"overlay\",\"size\":10,\"solidity\":0.2},\"type\":\"scatter\"}],\"parcoords\":[{\"type\":\"parcoords\",\"line\":{\"colorbar\":{\"outlinewidth\":0,\"ticks\":\"\"}}}],\"scatterpolargl\":[{\"type\":\"scatterpolargl\",\"marker\":{\"colorbar\":{\"outlinewidth\":0,\"ticks\":\"\"}}}],\"bar\":[{\"error_x\":{\"color\":\"#2a3f5f\"},\"error_y\":{\"color\":\"#2a3f5f\"},\"marker\":{\"line\":{\"color\":\"#E5ECF6\",\"width\":0.5},\"pattern\":{\"fillmode\":\"overlay\",\"size\":10,\"solidity\":0.2}},\"type\":\"bar\"}],\"scattergeo\":[{\"type\":\"scattergeo\",\"marker\":{\"colorbar\":{\"outlinewidth\":0,\"ticks\":\"\"}}}],\"scatterpolar\":[{\"type\":\"scatterpolar\",\"marker\":{\"colorbar\":{\"outlinewidth\":0,\"ticks\":\"\"}}}],\"histogram\":[{\"marker\":{\"pattern\":{\"fillmode\":\"overlay\",\"size\":10,\"solidity\":0.2}},\"type\":\"histogram\"}],\"scattergl\":[{\"type\":\"scattergl\",\"marker\":{\"colorbar\":{\"outlinewidth\":0,\"ticks\":\"\"}}}],\"scatter3d\":[{\"type\":\"scatter3d\",\"line\":{\"colorbar\":{\"outlinewidth\":0,\"ticks\":\"\"}},\"marker\":{\"colorbar\":{\"outlinewidth\":0,\"ticks\":\"\"}}}],\"scattermapbox\":[{\"type\":\"scattermapbox\",\"marker\":{\"colorbar\":{\"outlinewidth\":0,\"ticks\":\"\"}}}],\"scatterternary\":[{\"type\":\"scatterternary\",\"marker\":{\"colorbar\":{\"outlinewidth\":0,\"ticks\":\"\"}}}],\"scattercarpet\":[{\"type\":\"scattercarpet\",\"marker\":{\"colorbar\":{\"outlinewidth\":0,\"ticks\":\"\"}}}],\"carpet\":[{\"aaxis\":{\"endlinecolor\":\"#2a3f5f\",\"gridcolor\":\"white\",\"linecolor\":\"white\",\"minorgridcolor\":\"white\",\"startlinecolor\":\"#2a3f5f\"},\"baxis\":{\"endlinecolor\":\"#2a3f5f\",\"gridcolor\":\"white\",\"linecolor\":\"white\",\"minorgridcolor\":\"white\",\"startlinecolor\":\"#2a3f5f\"},\"type\":\"carpet\"}],\"table\":[{\"cells\":{\"fill\":{\"color\":\"#EBF0F8\"},\"line\":{\"color\":\"white\"}},\"header\":{\"fill\":{\"color\":\"#C8D4E3\"},\"line\":{\"color\":\"white\"}},\"type\":\"table\"}],\"barpolar\":[{\"marker\":{\"line\":{\"color\":\"#E5ECF6\",\"width\":0.5},\"pattern\":{\"fillmode\":\"overlay\",\"size\":10,\"solidity\":0.2}},\"type\":\"barpolar\"}],\"pie\":[{\"automargin\":true,\"type\":\"pie\"}]},\"layout\":{\"autotypenumbers\":\"strict\",\"colorway\":[\"#636efa\",\"#EF553B\",\"#00cc96\",\"#ab63fa\",\"#FFA15A\",\"#19d3f3\",\"#FF6692\",\"#B6E880\",\"#FF97FF\",\"#FECB52\"],\"font\":{\"color\":\"#2a3f5f\"},\"hovermode\":\"closest\",\"hoverlabel\":{\"align\":\"left\"},\"paper_bgcolor\":\"white\",\"plot_bgcolor\":\"#E5ECF6\",\"polar\":{\"bgcolor\":\"#E5ECF6\",\"angularaxis\":{\"gridcolor\":\"white\",\"linecolor\":\"white\",\"ticks\":\"\"},\"radialaxis\":{\"gridcolor\":\"white\",\"linecolor\":\"white\",\"ticks\":\"\"}},\"ternary\":{\"bgcolor\":\"#E5ECF6\",\"aaxis\":{\"gridcolor\":\"white\",\"linecolor\":\"white\",\"ticks\":\"\"},\"baxis\":{\"gridcolor\":\"white\",\"linecolor\":\"white\",\"ticks\":\"\"},\"caxis\":{\"gridcolor\":\"white\",\"linecolor\":\"white\",\"ticks\":\"\"}},\"coloraxis\":{\"colorbar\":{\"outlinewidth\":0,\"ticks\":\"\"}},\"colorscale\":{\"sequential\":[[0.0,\"#0d0887\"],[0.1111111111111111,\"#46039f\"],[0.2222222222222222,\"#7201a8\"],[0.3333333333333333,\"#9c179e\"],[0.4444444444444444,\"#bd3786\"],[0.5555555555555556,\"#d8576b\"],[0.6666666666666666,\"#ed7953\"],[0.7777777777777778,\"#fb9f3a\"],[0.8888888888888888,\"#fdca26\"],[1.0,\"#f0f921\"]],\"sequentialminus\":[[0.0,\"#0d0887\"],[0.1111111111111111,\"#46039f\"],[0.2222222222222222,\"#7201a8\"],[0.3333333333333333,\"#9c179e\"],[0.4444444444444444,\"#bd3786\"],[0.5555555555555556,\"#d8576b\"],[0.6666666666666666,\"#ed7953\"],[0.7777777777777778,\"#fb9f3a\"],[0.8888888888888888,\"#fdca26\"],[1.0,\"#f0f921\"]],\"diverging\":[[0,\"#8e0152\"],[0.1,\"#c51b7d\"],[0.2,\"#de77ae\"],[0.3,\"#f1b6da\"],[0.4,\"#fde0ef\"],[0.5,\"#f7f7f7\"],[0.6,\"#e6f5d0\"],[0.7,\"#b8e186\"],[0.8,\"#7fbc41\"],[0.9,\"#4d9221\"],[1,\"#276419\"]]},\"xaxis\":{\"gridcolor\":\"white\",\"linecolor\":\"white\",\"ticks\":\"\",\"title\":{\"standoff\":15},\"zerolinecolor\":\"white\",\"automargin\":true,\"zerolinewidth\":2},\"yaxis\":{\"gridcolor\":\"white\",\"linecolor\":\"white\",\"ticks\":\"\",\"title\":{\"standoff\":15},\"zerolinecolor\":\"white\",\"automargin\":true,\"zerolinewidth\":2},\"scene\":{\"xaxis\":{\"backgroundcolor\":\"#E5ECF6\",\"gridcolor\":\"white\",\"linecolor\":\"white\",\"showbackground\":true,\"ticks\":\"\",\"zerolinecolor\":\"white\",\"gridwidth\":2},\"yaxis\":{\"backgroundcolor\":\"#E5ECF6\",\"gridcolor\":\"white\",\"linecolor\":\"white\",\"showbackground\":true,\"ticks\":\"\",\"zerolinecolor\":\"white\",\"gridwidth\":2},\"zaxis\":{\"backgroundcolor\":\"#E5ECF6\",\"gridcolor\":\"white\",\"linecolor\":\"white\",\"showbackground\":true,\"ticks\":\"\",\"zerolinecolor\":\"white\",\"gridwidth\":2}},\"shapedefaults\":{\"line\":{\"color\":\"#2a3f5f\"}},\"annotationdefaults\":{\"arrowcolor\":\"#2a3f5f\",\"arrowhead\":0,\"arrowwidth\":1},\"geo\":{\"bgcolor\":\"white\",\"landcolor\":\"#E5ECF6\",\"subunitcolor\":\"white\",\"showland\":true,\"showlakes\":true,\"lakecolor\":\"white\"},\"title\":{\"x\":0.05},\"mapbox\":{\"style\":\"light\"}}},\"xaxis\":{\"anchor\":\"y\",\"domain\":[0.0,1.0],\"title\":{\"text\":\"id\"}},\"yaxis\":{\"anchor\":\"x\",\"domain\":[0.0,1.0],\"title\":{\"text\":\"desc_index\"}},\"legend\":{\"tracegroupgap\":0},\"margin\":{\"t\":60},\"barmode\":\"relative\"},                        {\"responsive\": true}                    ).then(function(){\n",
       "                            \n",
       "var gd = document.getElementById('97e85a8b-d8e6-4c0c-85c7-201fafcfbf59');\n",
       "var x = new MutationObserver(function (mutations, observer) {{\n",
       "        var display = window.getComputedStyle(gd).display;\n",
       "        if (!display || display === 'none') {{\n",
       "            console.log([gd, 'removed!']);\n",
       "            Plotly.purge(gd);\n",
       "            observer.disconnect();\n",
       "        }}\n",
       "}});\n",
       "\n",
       "// Listen for the removal of the full notebook cells\n",
       "var notebookContainer = gd.closest('#notebook-container');\n",
       "if (notebookContainer) {{\n",
       "    x.observe(notebookContainer, {childList: true});\n",
       "}}\n",
       "\n",
       "// Listen for the clearing of the current output cell\n",
       "var outputEl = gd.closest('.output');\n",
       "if (outputEl) {{\n",
       "    x.observe(outputEl, {childList: true});\n",
       "}}\n",
       "\n",
       "                        })                };                });            </script>        </div>"
      ]
     },
     "metadata": {},
     "output_type": "display_data"
    }
   ],
   "source": [
    "pe = escore_f.groupby(\"id\").desc_index.count().reset_index()\n",
    "pe = pe.sort_values(by=\"desc_index\", ascending=False)\n",
    "\n",
    "e = px.bar(pe.query(\"desc_index >10\"), x=\"id\", y=\"desc_index\")\n",
    "e.show()"
   ]
  },
  {
   "cell_type": "code",
   "execution_count": 9,
   "metadata": {
    "execution": {
     "iopub.execute_input": "2024-05-17T06:28:44.673802Z",
     "iopub.status.busy": "2024-05-17T06:28:44.673802Z",
     "iopub.status.idle": "2024-05-17T06:28:44.891584Z",
     "shell.execute_reply": "2024-05-17T06:28:44.890599Z",
     "shell.execute_reply.started": "2024-05-17T06:28:44.673802Z"
    },
    "tags": []
   },
   "outputs": [],
   "source": [
    "topiclist = tscore_f.groupby(\"desc_index\").topic.unique().reset_index()\n",
    "entitylist = escore_f.groupby(\"desc_index\").id.unique().reset_index().rename(columns = {\"id\":\"entity\"})\n",
    "\n",
    "df_all = df.merge(topiclist, left_on = \"index\", right_on = \"desc_index\",how = \"left\").drop(columns = [\"desc_index\"])\n",
    "\n",
    "#df_all.to_csv(\"data/socialmaps_data_tagstopics.csv\", index = False)"
   ]
  },
  {
   "cell_type": "markdown",
   "metadata": {},
   "source": [
    "Results are looking good, the search process on the website can be improved by extending the tags with these entities and topics."
   ]
  }
 ],
 "metadata": {
  "kernelspec": {
   "display_name": "Python 3 (ipykernel)",
   "language": "python",
   "name": "python3"
  },
  "language_info": {
   "codemirror_mode": {
    "name": "ipython",
    "version": 3
   },
   "file_extension": ".py",
   "mimetype": "text/x-python",
   "name": "python",
   "nbconvert_exporter": "python",
   "pygments_lexer": "ipython3",
   "version": "3.11.4"
  }
 },
 "nbformat": 4,
 "nbformat_minor": 4
}
